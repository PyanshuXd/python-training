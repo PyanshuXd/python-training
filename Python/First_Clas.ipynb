{
 "cells": [
  {
   "cell_type": "code",
   "execution_count": 7,
   "id": "1fb211d0-e20b-42bc-b9e4-5d5e44643f20",
   "metadata": {},
   "outputs": [
    {
     "name": "stdout",
     "output_type": "stream",
     "text": [
      "Requirement already satisfied: yfinance in c:\\users\\dell\\anaconda3\\lib\\site-packages (0.2.50)\n",
      "Requirement already satisfied: pandas>=1.3.0 in c:\\users\\dell\\anaconda3\\lib\\site-packages (from yfinance) (2.2.2)\n",
      "Requirement already satisfied: numpy>=1.16.5 in c:\\users\\dell\\anaconda3\\lib\\site-packages (from yfinance) (1.26.4)\n",
      "Requirement already satisfied: requests>=2.31 in c:\\users\\dell\\anaconda3\\lib\\site-packages (from yfinance) (2.32.2)\n",
      "Requirement already satisfied: multitasking>=0.0.7 in c:\\users\\dell\\anaconda3\\lib\\site-packages (from yfinance) (0.0.11)\n",
      "Requirement already satisfied: lxml>=4.9.1 in c:\\users\\dell\\anaconda3\\lib\\site-packages (from yfinance) (5.2.1)\n",
      "Requirement already satisfied: platformdirs>=2.0.0 in c:\\users\\dell\\anaconda3\\lib\\site-packages (from yfinance) (3.10.0)\n",
      "Requirement already satisfied: pytz>=2022.5 in c:\\users\\dell\\anaconda3\\lib\\site-packages (from yfinance) (2024.1)\n",
      "Requirement already satisfied: frozendict>=2.3.4 in c:\\users\\dell\\anaconda3\\lib\\site-packages (from yfinance) (2.4.2)\n",
      "Requirement already satisfied: peewee>=3.16.2 in c:\\users\\dell\\anaconda3\\lib\\site-packages (from yfinance) (3.17.8)\n",
      "Requirement already satisfied: beautifulsoup4>=4.11.1 in c:\\users\\dell\\anaconda3\\lib\\site-packages (from yfinance) (4.12.3)\n",
      "Requirement already satisfied: html5lib>=1.1 in c:\\users\\dell\\anaconda3\\lib\\site-packages (from yfinance) (1.1)\n",
      "Requirement already satisfied: soupsieve>1.2 in c:\\users\\dell\\anaconda3\\lib\\site-packages (from beautifulsoup4>=4.11.1->yfinance) (2.5)\n",
      "Requirement already satisfied: six>=1.9 in c:\\users\\dell\\appdata\\roaming\\python\\python312\\site-packages (from html5lib>=1.1->yfinance) (1.16.0)\n",
      "Requirement already satisfied: webencodings in c:\\users\\dell\\anaconda3\\lib\\site-packages (from html5lib>=1.1->yfinance) (0.5.1)\n",
      "Requirement already satisfied: python-dateutil>=2.8.2 in c:\\users\\dell\\anaconda3\\lib\\site-packages (from pandas>=1.3.0->yfinance) (2.9.0.post0)\n",
      "Requirement already satisfied: tzdata>=2022.7 in c:\\users\\dell\\anaconda3\\lib\\site-packages (from pandas>=1.3.0->yfinance) (2023.3)\n",
      "Requirement already satisfied: charset-normalizer<4,>=2 in c:\\users\\dell\\anaconda3\\lib\\site-packages (from requests>=2.31->yfinance) (2.0.4)\n",
      "Requirement already satisfied: idna<4,>=2.5 in c:\\users\\dell\\anaconda3\\lib\\site-packages (from requests>=2.31->yfinance) (3.7)\n",
      "Requirement already satisfied: urllib3<3,>=1.21.1 in c:\\users\\dell\\anaconda3\\lib\\site-packages (from requests>=2.31->yfinance) (2.2.2)\n",
      "Requirement already satisfied: certifi>=2017.4.17 in c:\\users\\dell\\anaconda3\\lib\\site-packages (from requests>=2.31->yfinance) (2024.6.2)\n",
      "Note: you may need to restart the kernel to use updated packages.\n"
     ]
    }
   ],
   "source": [
    "pip install yfinance"
   ]
  },
  {
   "cell_type": "code",
   "execution_count": 8,
   "id": "e1b88de8-5b84-4b54-83ab-e8817b907893",
   "metadata": {},
   "outputs": [
    {
     "name": "stdout",
     "output_type": "stream",
     "text": [
      "<class 'float'>\n"
     ]
    }
   ],
   "source": [
    "a = \"1.02\"\n",
    "b = float(a)\n",
    "print(type(b))"
   ]
  },
  {
   "cell_type": "code",
   "execution_count": 9,
   "id": "0e5b0455-c17e-453a-8819-423ea7a9d866",
   "metadata": {},
   "outputs": [
    {
     "name": "stdout",
     "output_type": "stream",
     "text": [
      "First Element is: 1.0\n",
      "array('d', [1.0, 2.0, 3.0, 4.0])\n"
     ]
    }
   ],
   "source": [
    "import array as arr\n",
    "\n",
    "a = arr.array('d',[1,2,3])\n",
    "\n",
    "print(\"First Element is:\",a[0])\n",
    "\n",
    "a.append(4)\n",
    "\n",
    "print(a)"
   ]
  },
  {
   "cell_type": "code",
   "execution_count": 11,
   "id": "3bdb9b5d-50d8-4b18-a728-104d632f4813",
   "metadata": {},
   "outputs": [
    {
     "name": "stdout",
     "output_type": "stream",
     "text": [
      "    PatientID       PatientName  Age  Gender BloodType     Diagnosis  \\\n",
      "0           1     David Johnson    3   Other        A+           Flu   \n",
      "1           2                 A   82   Other        A-      Covid-19   \n",
      "2           3    William Taylor   56   Other        B+  Hypertension   \n",
      "3           4     William Davis   36   Other       AB+      Covid-19   \n",
      "4           5      Robert Davis   78    Male        B+           Flu   \n",
      "5           6      Susan Taylor   18  Female        B+      Diabetes   \n",
      "6           7   Richard Johnson   62  Female        A+  Hypertension   \n",
      "7           8                 B   13    Male        B-           Flu   \n",
      "8           9       Susan Smith   34    Male       AB+           Flu   \n",
      "9          10    Susan Anderson   31  Female        B+           Flu   \n",
      "10         11       David Lopez   93   Other        B+      Covid-19   \n",
      "11         12     John Anderson   31  Female        A-           Flu   \n",
      "12         13   David Rodriguez   65    Male        O+  Hypertension   \n",
      "13         14    Jennifer Smith   64   Other        O+        Asthma   \n",
      "14         15    Linda Anderson    6  Female       AB-  Hypertension   \n",
      "15         16  Michael Williams   47    Male        A+      Covid-19   \n",
      "16         17   Robert Anderson   27  Female        A+      Diabetes   \n",
      "17         18   Patricia Wilson   40  Female       AB-           Flu   \n",
      "18         19   Jennifer Wilson   91    Male        A-      Diabetes   \n",
      "19         20     Charles Moore   24   Other        B+      Covid-19   \n",
      "\n",
      "     Treatment  \n",
      "0   Medication  \n",
      "1   Medication  \n",
      "2      Therapy  \n",
      "3      Therapy  \n",
      "4      Surgery  \n",
      "5   Medication  \n",
      "6      Surgery  \n",
      "7   Medication  \n",
      "8      Surgery  \n",
      "9      Therapy  \n",
      "10  Medication  \n",
      "11     Therapy  \n",
      "12     Therapy  \n",
      "13  Medication  \n",
      "14     Surgery  \n",
      "15     Therapy  \n",
      "16  Medication  \n",
      "17  Medication  \n",
      "18     Surgery  \n",
      "19     Surgery  \n"
     ]
    }
   ],
   "source": [
    "import pandas as pd\n",
    "a = pd.read_csv('C:/Users/dell/Desktop/Book1.csv')\n",
    "print(a)"
   ]
  },
  {
   "cell_type": "code",
   "execution_count": 12,
   "id": "18e7d9fd-76b6-4fe5-a16e-5fcea5db9e00",
   "metadata": {},
   "outputs": [
    {
     "name": "stdout",
     "output_type": "stream",
     "text": [
      "   PatientID     PatientName  Age Gender BloodType     Diagnosis   Treatment\n",
      "0          1   David Johnson    3  Other        A+           Flu  Medication\n",
      "1          2               A   82  Other        A-      Covid-19  Medication\n",
      "2          3  William Taylor   56  Other        B+  Hypertension     Therapy\n",
      "3          4   William Davis   36  Other       AB+      Covid-19     Therapy\n",
      "4          5    Robert Davis   78   Male        B+           Flu     Surgery\n"
     ]
    }
   ],
   "source": [
    "import pandas as pd\n",
    "a = pd.read_csv('C:/Users/dell/Desktop/Book1.csv')\n",
    "print(a.head(5))"
   ]
  },
  {
   "cell_type": "code",
   "execution_count": 13,
   "id": "f7723586-3429-4d74-b809-79e090f243b5",
   "metadata": {},
   "outputs": [
    {
     "name": "stdout",
     "output_type": "stream",
     "text": [
      "    PatientID      PatientName  Age  Gender BloodType Diagnosis   Treatment\n",
      "16         17  Robert Anderson   27  Female        A+  Diabetes  Medication\n",
      "17         18  Patricia Wilson   40  Female       AB-       Flu  Medication\n",
      "18         19  Jennifer Wilson   91    Male        A-  Diabetes     Surgery\n",
      "19         20    Charles Moore   24   Other        B+  Covid-19     Surgery\n"
     ]
    }
   ],
   "source": [
    "import pandas as pd\n",
    "a = pd.read_csv('C:/Users/dell/Desktop/Book1.csv')\n",
    "print(a.tail(4))"
   ]
  },
  {
   "cell_type": "code",
   "execution_count": 14,
   "id": "0739c508-c7e7-4e4e-acbe-55458707fd85",
   "metadata": {},
   "outputs": [
    {
     "name": "stdout",
     "output_type": "stream",
     "text": [
      "<bound method NDFrame.tail of     PatientID      PatientName  Age  Gender BloodType     Diagnosis  \\\n",
      "0           1    David Johnson    3   Other        A+           Flu   \n",
      "1           2                A   82   Other        A-      Covid-19   \n",
      "2           3   William Taylor   56   Other        B+  Hypertension   \n",
      "..        ...              ...  ...     ...       ...           ...   \n",
      "17         18  Patricia Wilson   40  Female       AB-           Flu   \n",
      "18         19  Jennifer Wilson   91    Male        A-      Diabetes   \n",
      "19         20    Charles Moore   24   Other        B+      Covid-19   \n",
      "\n",
      "     Treatment  \n",
      "0   Medication  \n",
      "1   Medication  \n",
      "2      Therapy  \n",
      "..         ...  \n",
      "17  Medication  \n",
      "18     Surgery  \n",
      "19     Surgery  \n",
      "\n",
      "[20 rows x 7 columns]>\n"
     ]
    }
   ],
   "source": [
    "import pandas as pd\n",
    "pd.options.display.max_rows = 7\n",
    "a = pd.read_csv('C:/Users/dell/Desktop/Book1.csv')\n",
    "print(a.tail)"
   ]
  },
  {
   "cell_type": "code",
   "execution_count": null,
   "id": "69ea3516-b2cb-4a55-bb24-e41d5b44d597",
   "metadata": {},
   "outputs": [],
   "source": []
  }
 ],
 "metadata": {
  "kernelspec": {
   "display_name": "Python 3 (ipykernel)",
   "language": "python",
   "name": "python3"
  },
  "language_info": {
   "codemirror_mode": {
    "name": "ipython",
    "version": 3
   },
   "file_extension": ".py",
   "mimetype": "text/x-python",
   "name": "python",
   "nbconvert_exporter": "python",
   "pygments_lexer": "ipython3",
   "version": "3.12.4"
  }
 },
 "nbformat": 4,
 "nbformat_minor": 5
}
