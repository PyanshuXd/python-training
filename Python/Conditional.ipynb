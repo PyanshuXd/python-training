{
 "cells": [
  {
   "cell_type": "code",
   "execution_count": 4,
   "id": "ad378512-debb-4270-83ec-7b5d8a0e4716",
   "metadata": {},
   "outputs": [
    {
     "name": "stdin",
     "output_type": "stream",
     "text": [
      "Enter a number 25\n"
     ]
    },
    {
     "name": "stdout",
     "output_type": "stream",
     "text": [
      "The number is positive\n"
     ]
    }
   ],
   "source": [
    "#Check if a number is positive or negative\n",
    "n = float(input(\"Enter a number\"))\n",
    "if n > 0:\n",
    "    print(\"The number is positive\")\n",
    "elif n < 0:\n",
    "    print(\"The number is negative\")\n",
    "else:\n",
    "    print(\"The number is zero\") "
   ]
  },
  {
   "cell_type": "code",
   "execution_count": 7,
   "id": "a3bd81a5-20ff-457b-a825-5421a0559f23",
   "metadata": {},
   "outputs": [
    {
     "name": "stdin",
     "output_type": "stream",
     "text": [
      "Enter a number 0\n"
     ]
    },
    {
     "name": "stdout",
     "output_type": "stream",
     "text": [
      "The number is Even\n"
     ]
    }
   ],
   "source": [
    "#Check if a number is even or odd\n",
    "n = float(input(\"Enter a number\"))\n",
    "if n % 2 == 0:\n",
    "    print(\"The number is Even\")\n",
    "else:\n",
    "    print(\"The number is Odd\")"
   ]
  },
  {
   "cell_type": "code",
   "execution_count": 13,
   "id": "949cb229-c540-4e88-b149-f5b783bc4b9b",
   "metadata": {},
   "outputs": [
    {
     "name": "stdin",
     "output_type": "stream",
     "text": [
      "Enter your age 17\n"
     ]
    },
    {
     "name": "stdout",
     "output_type": "stream",
     "text": [
      "You're not Eligible to vote\n"
     ]
    }
   ],
   "source": [
    "#Check if a person is eligible to vote (age >= 18)\n",
    "n = float(input(\"Enter your age\"))\n",
    "if n >= 18:\n",
    "    print(\"You're Eligible to vote\")\n",
    "else:\n",
    "    print(\"You're not Eligible to vote\")"
   ]
  },
  {
   "cell_type": "code",
   "execution_count": 17,
   "id": "0d74fd41-bb43-4dae-95cb-25869d1864f8",
   "metadata": {},
   "outputs": [
    {
     "name": "stdin",
     "output_type": "stream",
     "text": [
      "Enter a number 10\n",
      "Enter a number 11\n"
     ]
    },
    {
     "name": "stdout",
     "output_type": "stream",
     "text": [
      "The number 11.0 is greater\n"
     ]
    }
   ],
   "source": [
    "#Find the largest of two numbers.\n",
    "a = float(input(\"Enter a number\"))\n",
    "b = float(input(\"Enter a number\"))\n",
    "if a > b:\n",
    "    print(\"The number\",a,\"is greater\")\n",
    "elif a < b:\n",
    "    print(\"The number\",b,\"is greater\")\n",
    "else:\n",
    "    print(\"The number is equal\")"
   ]
  },
  {
   "cell_type": "code",
   "execution_count": 22,
   "id": "cf33468e-9a26-4d43-a535-3353b3acce64",
   "metadata": {},
   "outputs": [
    {
     "name": "stdin",
     "output_type": "stream",
     "text": [
      "Enter the year 2016\n"
     ]
    },
    {
     "name": "stdout",
     "output_type": "stream",
     "text": [
      "This year is a leap year\n"
     ]
    }
   ],
   "source": [
    "#Find if a year is a leap year.\n",
    "n = int(input(\"Enter the year\"))\n",
    "if n % 4 == 0:\n",
    "    print(\"This year is a leap year\")\n",
    "else:\n",
    "    print(\"This year is not a leap year\")"
   ]
  },
  {
   "cell_type": "code",
   "execution_count": 26,
   "id": "d7bcd50d-62cb-4a7f-b672-30d8fdd3cdb8",
   "metadata": {},
   "outputs": [
    {
     "name": "stdin",
     "output_type": "stream",
     "text": [
      "Enter alphabet a\n"
     ]
    },
    {
     "name": "stdout",
     "output_type": "stream",
     "text": [
      "This is a vowel\n"
     ]
    }
   ],
   "source": [
    "#Check if a character is a vowel or consonant.\n",
    "n = input(\"Enter alphabet\")\n",
    "v = \"aeiou\"\n",
    "c = \"AEIOU\"\n",
    "if n in v:\n",
    "    print(\"This is a vowel\")\n",
    "elif n in c:\n",
    "    print(\"This is a vowel\")\n",
    "else:\n",
    "    print(\"This is a consonent\")"
   ]
  },
  {
   "cell_type": "code",
   "execution_count": 32,
   "id": "024d7b74-c830-4bc2-8486-1d85c77d6285",
   "metadata": {},
   "outputs": [
    {
     "name": "stdin",
     "output_type": "stream",
     "text": [
      "Enter your marks 95.12\n"
     ]
    },
    {
     "name": "stdout",
     "output_type": "stream",
     "text": [
      "Grade : A\n"
     ]
    }
   ],
   "source": [
    "'''\n",
    "Grade calculator for examination marks\n",
    ">= 90 :: A\n",
    ">= 80 :: B\n",
    ">= 70 :: C\n",
    ">= 60 :: D\n",
    "Otherwise \"Fail\"\n",
    "'''\n",
    "n = float(input(\"Enter your marks\"))\n",
    "if n >= 90:\n",
    "    print(\"Grade : A\")\n",
    "elif n >= 80:\n",
    "    print(\"Grade : B\")\n",
    "elif n >= 70:\n",
    "    print(\"Grade : C\")\n",
    "elif n >= 60:\n",
    "    print(\"Grade : D\")\n",
    "else:\n",
    "    print(\"Grade : Fail\")"
   ]
  },
  {
   "cell_type": "code",
   "execution_count": 34,
   "id": "600762bd-4213-4e1c-ade0-02398b799f68",
   "metadata": {},
   "outputs": [
    {
     "name": "stdin",
     "output_type": "stream",
     "text": [
      "Enter a number 27\n"
     ]
    },
    {
     "name": "stdout",
     "output_type": "stream",
     "text": [
      "The number 27 is not divisible by both 2 and 3\n"
     ]
    }
   ],
   "source": [
    "#Check if a number is divisible by 2 and 3.\n",
    "n = int(input(\"Enter a number\"))\n",
    "if n % 2 == 0 and n % 3 == 0:\n",
    "    print(\"The number\",n,\"is divisible by both 2 and 3\")\n",
    "else:\n",
    "    print(\"The number\",n,\"is not divisible by both 2 and 3\")"
   ]
  },
  {
   "cell_type": "code",
   "execution_count": 38,
   "id": "6edcc424-ed2a-4535-a060-e5c149994661",
   "metadata": {},
   "outputs": [
    {
     "name": "stdin",
     "output_type": "stream",
     "text": [
      "Enter a number : 91.30\n",
      "Enter a number : 90.75\n",
      "Enter a number : 92.11\n"
     ]
    },
    {
     "name": "stdout",
     "output_type": "stream",
     "text": [
      "The largest number is 92.11\n"
     ]
    }
   ],
   "source": [
    "#Find the largest of three numbers using nested IF.\n",
    "a = float(input(\"Enter a number :\"))\n",
    "b = float(input(\"Enter a number :\"))\n",
    "c = float(input(\"Enter a number :\"))\n",
    "d = a\n",
    "if d < b:\n",
    "    d = b\n",
    "if d < c:\n",
    "        d = c\n",
    "print(\"The largest number is\",d)"
   ]
  },
  {
   "cell_type": "code",
   "execution_count": 45,
   "id": "12366cf3-2d87-4f3d-bb0f-051364c344d3",
   "metadata": {},
   "outputs": [
    {
     "name": "stdin",
     "output_type": "stream",
     "text": [
      "Enter x-axis point: -6\n",
      "Enter y-axis point: -4\n"
     ]
    },
    {
     "name": "stdout",
     "output_type": "stream",
     "text": [
      "Third Quadrant\n"
     ]
    }
   ],
   "source": [
    "#Check if a point (x, y) lies in the first quadrant, second quadrant, third quadrant, or fourth quadrant.\n",
    "x = int(input(\"Enter x-axis point:\"))\n",
    "y = int(input(\"Enter y-axis point:\"))\n",
    "if x > 0 and y > 0:\n",
    "    print(\"First Quadrant\")\n",
    "elif x < 0 and y > 0:\n",
    "    print(\"Second Quadrant\")\n",
    "elif x < 0 and y < 0:\n",
    "    print(\"Third Quadrant\")\n",
    "elif x > 0 and y <0:\n",
    "    print(\"Fourth Quadrant\")\n",
    "else:\n",
    "    print(\"You're on the axis\")"
   ]
  },
  {
   "cell_type": "code",
   "execution_count": null,
   "id": "a8c7993b-c5ec-43e9-9b15-b52c64f349b6",
   "metadata": {},
   "outputs": [],
   "source": [
    "number = int(input(\"Enter a number: \"))\n",
    "if number > 0:\n",
    "    print(\"The number is positive.\")\n",
    "else:\n",
    "    print(\"The number is negative or zero.\")\n"
   ]
  },
  {
   "cell_type": "code",
   "execution_count": null,
   "id": "61f376d4-dd2f-493f-939b-9c4511a44cc9",
   "metadata": {},
   "outputs": [],
   "source": [
    "print(\"Start\")\n",
    "print(\"This line always executes.\")\n",
    "print(\"End\")"
   ]
  },
  {
   "cell_type": "code",
   "execution_count": 46,
   "id": "6f181de4-a2d4-4d61-a5a2-8a7214145f81",
   "metadata": {},
   "outputs": [
    {
     "name": "stdin",
     "output_type": "stream",
     "text": [
      "Enter a number:  5\n"
     ]
    },
    {
     "name": "stdout",
     "output_type": "stream",
     "text": [
      "The number is positive.\n",
      "End\n"
     ]
    }
   ],
   "source": [
    "number = int(input(\"Enter a number: \"))\n",
    "if number > 0:\n",
    "    print(\"The number is positive.\")\n",
    "else:\n",
    "    print(\"The number is negative or zero.\")\n",
    "print(\"End\")"
   ]
  },
  {
   "cell_type": "code",
   "execution_count": null,
   "id": "c56d94dd-e014-42cd-a90e-5165ec28c914",
   "metadata": {},
   "outputs": [],
   "source": [
    "if condition1:\n",
    "    # Code to execute if condition1 is true\n",
    "elif condition2:\n",
    "    # Code to execute if condition2 is true\n",
    "elif condition3:\n",
    "    # Code to execute if condition3 is true\n",
    "else:\n",
    "    # Code to execute if none of the above conditions are true"
   ]
  },
  {
   "cell_type": "code",
   "execution_count": 5,
   "id": "cced1d93-3b1e-4084-881d-e0c2957a3071",
   "metadata": {},
   "outputs": [
    {
     "name": "stdout",
     "output_type": "stream",
     "text": [
      "0 0 0 0 0 \n",
      "1 1 1 1 1 \n",
      "2 2 2 2 2 \n",
      "3 3 3 3 3 \n",
      "4 4 4 4 4 \n"
     ]
    }
   ],
   "source": [
    "for i in range(0,5):\n",
    "    for j in range(0,5):\n",
    "        print(i,end=\" \")\n",
    "    print()"
   ]
  },
  {
   "cell_type": "code",
   "execution_count": 1,
   "id": "249b9917-ec90-42df-b02f-046da39a5020",
   "metadata": {},
   "outputs": [
    {
     "name": "stdout",
     "output_type": "stream",
     "text": [
      "* \n",
      "* * \n",
      "* * * \n",
      "* * * * \n",
      "* * * * * \n"
     ]
    }
   ],
   "source": [
    "for i in range(1,6):\n",
    "    for j in range(1,i+1):\n",
    "        print(\"*\",end=\" \")\n",
    "    print()"
   ]
  },
  {
   "cell_type": "code",
   "execution_count": 3,
   "id": "2f9f21ca-2000-4e20-8f8b-91127c9d1d0e",
   "metadata": {},
   "outputs": [
    {
     "name": "stdout",
     "output_type": "stream",
     "text": [
      "1 \n",
      "1 2 \n",
      "1 2 3 \n",
      "1 2 3 4 \n",
      "1 2 3 4 5 \n"
     ]
    }
   ],
   "source": [
    "for i in range(1,6):\n",
    "    for j in range(1,i+1):\n",
    "        print(j,end=\" \")\n",
    "    print()"
   ]
  },
  {
   "cell_type": "code",
   "execution_count": 8,
   "id": "1a90fd35-6ab1-46f0-9450-e1bba7954f67",
   "metadata": {},
   "outputs": [
    {
     "ename": "TypeError",
     "evalue": "sort() takes no positional arguments",
     "output_type": "error",
     "traceback": [
      "\u001b[1;31m---------------------------------------------------------------------------\u001b[0m",
      "\u001b[1;31mTypeError\u001b[0m                                 Traceback (most recent call last)",
      "Cell \u001b[1;32mIn[8], line 2\u001b[0m\n\u001b[0;32m      1\u001b[0m x \u001b[38;5;241m=\u001b[39m [\u001b[38;5;241m89\u001b[39m,\u001b[38;5;241m52\u001b[39m,\u001b[38;5;241m30\u001b[39m,\u001b[38;5;241m10\u001b[39m]\n\u001b[1;32m----> 2\u001b[0m x\u001b[38;5;241m.\u001b[39msort(x\u001b[38;5;241m.\u001b[39mreverse())\n\u001b[0;32m      3\u001b[0m x\n",
      "\u001b[1;31mTypeError\u001b[0m: sort() takes no positional arguments"
     ]
    }
   ],
   "source": [
    "x = [89,52,30,10]\n",
    "x.sort(x.reverse())\n",
    "x"
   ]
  },
  {
   "cell_type": "code",
   "execution_count": 9,
   "id": "6ac1b62d-def0-4fa1-ae60-ff2565e8f9ed",
   "metadata": {},
   "outputs": [
    {
     "name": "stdout",
     "output_type": "stream",
     "text": [
      "['My', 'name', 'is', 'Kelly']\n"
     ]
    }
   ],
   "source": [
    "list1 = [\"M\", \"na\", \"i\", \"Ke\"]\n",
    "list2 = [\"y\", \"me\", \"s\", \"lly\"]\n",
    "combined = [a + b for a, b in zip(list1, list2)]\n",
    "print(combined)        "
   ]
  },
  {
   "cell_type": "code",
   "execution_count": 10,
   "id": "9961ab30-b471-4673-bb0a-0b3bd116c2f0",
   "metadata": {},
   "outputs": [
    {
     "name": "stdout",
     "output_type": "stream",
     "text": [
      "10 400\n",
      "20 300\n",
      "30 200\n",
      "40 100\n"
     ]
    }
   ],
   "source": [
    "list1 = [10, 20, 30, 40]\n",
    "list2 = [100, 200, 300, 400]\n",
    "list2_reversed = list2[::-1]\n",
    "for i, j in zip(list1, list2_reversed):\n",
    "    print(i,j)"
   ]
  },
  {
   "cell_type": "code",
   "execution_count": 25,
   "id": "571415d0-4183-408f-975c-134e676319f2",
   "metadata": {},
   "outputs": [
    {
     "name": "stdout",
     "output_type": "stream",
     "text": [
      "10 400\n",
      "20 300\n",
      "30 200\n",
      "40 100\n"
     ]
    }
   ],
   "source": [
    "list1 = [10, 20, 30, 40]\n",
    "list2 = [100, 200, 300, 400]\n",
    "result = []\n",
    "for i in range(len(list1)):\n",
    "    result.append((list1[i], list2[len(list2) - 1 - i]))\n",
    "for item in result:\n",
    "    print(item[0],item[1])"
   ]
  },
  {
   "cell_type": "code",
   "execution_count": 3,
   "id": "ef72b3b7-cef9-400f-bedc-c2fc92fe065e",
   "metadata": {},
   "outputs": [],
   "source": [
    "list=[15,26,95,45]\n",
    "list.sort()"
   ]
  },
  {
   "cell_type": "code",
   "execution_count": null,
   "id": "a6a78c02-cde2-4aaa-aa7c-409cb67a3dfc",
   "metadata": {},
   "outputs": [],
   "source": []
  }
 ],
 "metadata": {
  "kernelspec": {
   "display_name": "Python 3 (ipykernel)",
   "language": "python",
   "name": "python3"
  },
  "language_info": {
   "codemirror_mode": {
    "name": "ipython",
    "version": 3
   },
   "file_extension": ".py",
   "mimetype": "text/x-python",
   "name": "python",
   "nbconvert_exporter": "python",
   "pygments_lexer": "ipython3",
   "version": "3.12.4"
  }
 },
 "nbformat": 4,
 "nbformat_minor": 5
}
