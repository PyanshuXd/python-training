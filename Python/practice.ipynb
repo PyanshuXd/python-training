{
 "cells": [
  {
   "cell_type": "code",
   "execution_count": 28,
   "id": "81073046-820c-4f64-9af7-28198200b607",
   "metadata": {},
   "outputs": [
    {
     "name": "stdout",
     "output_type": "stream",
     "text": [
      "['apple', 'banana', 'mango']\n"
     ]
    }
   ],
   "source": [
    "a = 'apple','banana','mango'\n",
    "b = list(a)\n",
    "print(b)"
   ]
  },
  {
   "cell_type": "code",
   "execution_count": 1,
   "id": "ac3f6120-60c4-40a3-ba63-5377b5904c6a",
   "metadata": {},
   "outputs": [
    {
     "name": "stdout",
     "output_type": "stream",
     "text": [
      "8\n"
     ]
    }
   ],
   "source": [
    "x= 5\n",
    "x += 3\n",
    "print(x)\n"
   ]
  },
  {
   "cell_type": "code",
   "execution_count": 2,
   "id": "82f4b762-65e7-4bf2-9a18-ade931d99d1b",
   "metadata": {},
   "outputs": [
    {
     "name": "stdout",
     "output_type": "stream",
     "text": [
      "30\n"
     ]
    }
   ],
   "source": [
    "a = 6\n",
    "a *= 5\n",
    "print(a)\n"
   ]
  },
  {
   "cell_type": "code",
   "execution_count": 6,
   "id": "47aad9b2-0a54-45fd-a9d8-3b71ede484f8",
   "metadata": {},
   "outputs": [
    {
     "name": "stdout",
     "output_type": "stream",
     "text": [
      "30\n"
     ]
    }
   ],
   "source": [
    "a = 5\n",
    "b = 6\n",
    "a = a*b\n",
    "print(a)\n"
   ]
  },
  {
   "cell_type": "code",
   "execution_count": 8,
   "id": "3b57fdd0-f9b9-4c6d-85f0-ace4822f3534",
   "metadata": {},
   "outputs": [
    {
     "name": "stdout",
     "output_type": "stream",
     "text": [
      "180\n"
     ]
    }
   ],
   "source": [
    "c = a*b\n",
    "print (c)"
   ]
  },
  {
   "cell_type": "code",
   "execution_count": 9,
   "id": "2b1a5834-1cdb-41bd-8c08-3caf36d7c121",
   "metadata": {},
   "outputs": [
    {
     "name": "stdout",
     "output_type": "stream",
     "text": [
      "0b111\n"
     ]
    }
   ],
   "source": [
    "a= 7\n",
    "print(bin(a))"
   ]
  },
  {
   "cell_type": "code",
   "execution_count": 4,
   "id": "88bc7a3f-ee67-4d91-8f00-3e6123c78062",
   "metadata": {},
   "outputs": [
    {
     "name": "stdout",
     "output_type": "stream",
     "text": [
      "0b10010\n"
     ]
    }
   ],
   "source": [
    "a = 18\n",
    "print(bin(a))"
   ]
  },
  {
   "cell_type": "code",
   "execution_count": 13,
   "id": "1a16d667-3601-44bd-ac1f-0e684c018bc0",
   "metadata": {},
   "outputs": [
    {
     "data": {
      "text/plain": [
       "'Zentacross'"
      ]
     },
     "execution_count": 13,
     "metadata": {},
     "output_type": "execute_result"
    }
   ],
   "source": [
    "x = 'zentacross'\n",
    "x.capitalize()"
   ]
  },
  {
   "cell_type": "code",
   "execution_count": 14,
   "id": "e99c6cda-c660-43e5-b7f0-bf696fbdfb41",
   "metadata": {},
   "outputs": [
    {
     "data": {
      "text/plain": [
       "'zentacross'"
      ]
     },
     "execution_count": 14,
     "metadata": {},
     "output_type": "execute_result"
    }
   ],
   "source": [
    "x = 'ZENTACROSS'\n",
    "y = x.casefold()\n",
    "y"
   ]
  },
  {
   "cell_type": "code",
   "execution_count": 20,
   "id": "43b6428c-1aa0-44fb-aa19-15146eae2546",
   "metadata": {},
   "outputs": [
    {
     "data": {
      "text/plain": [
       "'Zentacross'"
      ]
     },
     "execution_count": 20,
     "metadata": {},
     "output_type": "execute_result"
    }
   ],
   "source": [
    "x = 'Zentacross'\n",
    "y = x.center(10, '-')\n",
    "y"
   ]
  },
  {
   "cell_type": "code",
   "execution_count": 26,
   "id": "25a3678d-f596-4eb9-a1cd-161e478cace2",
   "metadata": {},
   "outputs": [
    {
     "name": "stdout",
     "output_type": "stream",
     "text": [
      "**********************Hello***********************\n"
     ]
    }
   ],
   "source": [
    "text = \"Hello\"\n",
    "c  = text.center(50, '*')\n",
    "print(c)\n"
   ]
  },
  {
   "cell_type": "code",
   "execution_count": 31,
   "id": "7575ac8b-2e07-4a81-9f2d-635561ea8dad",
   "metadata": {},
   "outputs": [
    {
     "data": {
      "text/plain": [
       "3"
      ]
     },
     "execution_count": 31,
     "metadata": {},
     "output_type": "execute_result"
    }
   ],
   "source": [
    "text = 'Zentacrosssss is a robot'\n",
    "y = text.count(' ')\n",
    "y"
   ]
  },
  {
   "cell_type": "code",
   "execution_count": 8,
   "id": "ff909674-326f-4ccf-ab33-25dc5acafae1",
   "metadata": {},
   "outputs": [
    {
     "data": {
      "text/plain": [
       "4"
      ]
     },
     "execution_count": 8,
     "metadata": {},
     "output_type": "execute_result"
    }
   ],
   "source": [
    "x = 'hello welcome to my world'\n",
    "x.count('o')"
   ]
  },
  {
   "cell_type": "code",
   "execution_count": 29,
   "id": "612572a5-068c-4288-aa86-8d55bfbeb01e",
   "metadata": {},
   "outputs": [
    {
     "data": {
      "text/plain": [
       "b'Zentacross'"
      ]
     },
     "execution_count": 29,
     "metadata": {},
     "output_type": "execute_result"
    }
   ],
   "source": [
    "text = 'Zentacross'\n",
    "y = text.encode()\n",
    "y"
   ]
  },
  {
   "cell_type": "code",
   "execution_count": 30,
   "id": "9785eb2b-50ad-4e51-b037-23962b18b73f",
   "metadata": {},
   "outputs": [
    {
     "data": {
      "text/plain": [
       "True"
      ]
     },
     "execution_count": 30,
     "metadata": {},
     "output_type": "execute_result"
    }
   ],
   "source": [
    "text = 'Zentacross is robot'\n",
    "y = text.endswith('t')\n",
    "y"
   ]
  },
  {
   "cell_type": "code",
   "execution_count": 34,
   "id": "f958941e-638c-4d06-b0fc-ad6f897ab544",
   "metadata": {},
   "outputs": [
    {
     "data": {
      "text/plain": [
       "'PYANSHU ZX'"
      ]
     },
     "execution_count": 34,
     "metadata": {},
     "output_type": "execute_result"
    }
   ],
   "source": [
    "text = 'PYANSHU ZX'\n",
    "y = text.expandtabs()\n",
    "y"
   ]
  },
  {
   "cell_type": "code",
   "execution_count": 35,
   "id": "d26191c0-aad1-4b58-a1d8-bf7e70b1b80b",
   "metadata": {},
   "outputs": [
    {
     "data": {
      "text/plain": [
       "11"
      ]
     },
     "execution_count": 35,
     "metadata": {},
     "output_type": "execute_result"
    }
   ],
   "source": [
    "text = 'Zentacross is a bot'\n",
    "y = text.find('is')\n",
    "y"
   ]
  },
  {
   "cell_type": "code",
   "execution_count": 11,
   "id": "41fef196-26c6-41b4-9bca-8fde76bdc0d4",
   "metadata": {},
   "outputs": [
    {
     "name": "stdout",
     "output_type": "stream",
     "text": [
      "My name is Pyanshu and I'm 23 yrs old\n"
     ]
    }
   ],
   "source": [
    "x = 'Pyanshu'\n",
    "y = 23\n",
    "z = \"My name is {} and I'm {} yrs old\".format(x,y)\n",
    "print(z)"
   ]
  },
  {
   "cell_type": "code",
   "execution_count": 42,
   "id": "dd47971b-a14e-40a7-b457-71daa54f45c6",
   "metadata": {},
   "outputs": [
    {
     "data": {
      "text/plain": [
       "'c'"
      ]
     },
     "execution_count": 42,
     "metadata": {},
     "output_type": "execute_result"
    }
   ],
   "source": [
    "text = \"Zentacross\"\n",
    "y[5]\n"
   ]
  },
  {
   "cell_type": "code",
   "execution_count": 49,
   "id": "7c46c285-6f05-4415-8505-89501b740033",
   "metadata": {},
   "outputs": [
    {
     "data": {
      "text/plain": [
       "'entacr'"
      ]
     },
     "execution_count": 49,
     "metadata": {},
     "output_type": "execute_result"
    }
   ],
   "source": [
    "y = 'zentacross'\n",
    "y[1:7]"
   ]
  },
  {
   "cell_type": "code",
   "execution_count": 19,
   "id": "764697da-9d35-4164-8c42-d4dc2f960b99",
   "metadata": {},
   "outputs": [
    {
     "data": {
      "text/plain": [
       "True"
      ]
     },
     "execution_count": 19,
     "metadata": {},
     "output_type": "execute_result"
    }
   ],
   "source": [
    "text = 'zentacross001' \n",
    "y = text.isalnum()\n",
    "y"
   ]
  },
  {
   "cell_type": "code",
   "execution_count": 4,
   "id": "cafb1ee5-b383-4715-83a5-ca7a74309359",
   "metadata": {},
   "outputs": [
    {
     "data": {
      "text/plain": [
       "True"
      ]
     },
     "execution_count": 4,
     "metadata": {},
     "output_type": "execute_result"
    }
   ],
   "source": [
    "text = \"Zentacross\"\n",
    "y = text.isalpha()\n",
    "y"
   ]
  },
  {
   "cell_type": "code",
   "execution_count": 72,
   "id": "370d0fd1-539d-4714-a714-c42bd622c840",
   "metadata": {},
   "outputs": [
    {
     "data": {
      "text/plain": [
       "True"
      ]
     },
     "execution_count": 72,
     "metadata": {},
     "output_type": "execute_result"
    }
   ],
   "source": [
    "text = \"152\"\n",
    "y = text.isdecimal()\n",
    "y"
   ]
  },
  {
   "cell_type": "code",
   "execution_count": 73,
   "id": "99661acc-db58-49c5-b969-4c489f4310ba",
   "metadata": {},
   "outputs": [
    {
     "data": {
      "text/plain": [
       "False"
      ]
     },
     "execution_count": 73,
     "metadata": {},
     "output_type": "execute_result"
    }
   ],
   "source": [
    "text = \"zentacross\"\n",
    "y = text.isupper()\n",
    "y"
   ]
  },
  {
   "cell_type": "code",
   "execution_count": 74,
   "id": "2b8ac607-3c06-40be-8023-bcf6770acc41",
   "metadata": {},
   "outputs": [
    {
     "data": {
      "text/plain": [
       "True"
      ]
     },
     "execution_count": 74,
     "metadata": {},
     "output_type": "execute_result"
    }
   ],
   "source": [
    "text = \"zentacross\"\n",
    "y = text.islower()\n",
    "y"
   ]
  },
  {
   "cell_type": "code",
   "execution_count": 5,
   "id": "8dd4236f-25f5-4d60-b6d9-8c4677112951",
   "metadata": {},
   "outputs": [
    {
     "data": {
      "text/plain": [
       "False"
      ]
     },
     "execution_count": 5,
     "metadata": {},
     "output_type": "execute_result"
    }
   ],
   "source": [
    "text = \"48125a\"\n",
    "y = text.isnumeric()\n",
    "y"
   ]
  },
  {
   "cell_type": "code",
   "execution_count": 79,
   "id": "a567bad6-2804-4c0b-a274-edfb97476a4a",
   "metadata": {},
   "outputs": [
    {
     "data": {
      "text/plain": [
       "True"
      ]
     },
     "execution_count": 79,
     "metadata": {},
     "output_type": "execute_result"
    }
   ],
   "source": [
    "text = '   '\n",
    "y = text.isspace()\n",
    "y"
   ]
  },
  {
   "cell_type": "code",
   "execution_count": 82,
   "id": "bbf66688-b192-48d6-8958-c07a1b38335e",
   "metadata": {},
   "outputs": [
    {
     "data": {
      "text/plain": [
       "'Pyanshu Is My Name'"
      ]
     },
     "execution_count": 82,
     "metadata": {},
     "output_type": "execute_result"
    }
   ],
   "source": [
    "text = 'pyanshu is my name'\n",
    "text.title()"
   ]
  },
  {
   "cell_type": "code",
   "execution_count": 7,
   "id": "2e103ce7-f7c4-4584-b28e-cc0be1202848",
   "metadata": {},
   "outputs": [
    {
     "data": {
      "text/plain": [
       "True"
      ]
     },
     "execution_count": 7,
     "metadata": {},
     "output_type": "execute_result"
    }
   ],
   "source": [
    "text = 'Pyanshu Is My Name'\n",
    "y = text.istitle()\n",
    "y"
   ]
  },
  {
   "cell_type": "code",
   "execution_count": 21,
   "id": "bfc2591d-60cd-4a20-ac29-d4e40e236336",
   "metadata": {},
   "outputs": [
    {
     "data": {
      "text/plain": [
       "'w'"
      ]
     },
     "execution_count": 21,
     "metadata": {},
     "output_type": "execute_result"
    }
   ],
   "source": [
    "x = 'Hello world'\n",
    "x[-5]"
   ]
  },
  {
   "cell_type": "code",
   "execution_count": 9,
   "id": "358349cf-6970-444b-a855-73d4a7b9fb52",
   "metadata": {},
   "outputs": [
    {
     "data": {
      "text/plain": [
       "31"
      ]
     },
     "execution_count": 9,
     "metadata": {},
     "output_type": "execute_result"
    }
   ],
   "source": [
    "a = \"31\"\n",
    "int(a)"
   ]
  },
  {
   "cell_type": "code",
   "execution_count": 6,
   "id": "79700af7-fafa-4b5f-8f40-66a4d7b4b982",
   "metadata": {},
   "outputs": [
    {
     "data": {
      "text/plain": [
       "'32.26'"
      ]
     },
     "execution_count": 6,
     "metadata": {},
     "output_type": "execute_result"
    }
   ],
   "source": [
    "a = 32.26\n",
    "str(a)"
   ]
  },
  {
   "cell_type": "code",
   "execution_count": 1,
   "id": "ee27906a-0361-413d-b89e-a2033ec45659",
   "metadata": {},
   "outputs": [
    {
     "name": "stdout",
     "output_type": "stream",
     "text": [
      "15\n"
     ]
    }
   ],
   "source": [
    "a = 15.92\n",
    "print(int(a))\n"
   ]
  },
  {
   "cell_type": "code",
   "execution_count": 8,
   "id": "e7e0e6b3-1077-4911-9c02-2c0ae9336cf0",
   "metadata": {},
   "outputs": [
    {
     "name": "stdout",
     "output_type": "stream",
     "text": [
      "Python is awesome\n"
     ]
    }
   ],
   "source": [
    "x = 'awesome'\n",
    "def myfunc():\n",
    "    x = 'fantastic'\n",
    "myfunc()\n",
    "print('Python is ' + x)\n"
   ]
  },
  {
   "cell_type": "code",
   "execution_count": 13,
   "id": "a02bfa97-019f-4db6-9b2d-e38eae3140ea",
   "metadata": {},
   "outputs": [
    {
     "data": {
      "text/plain": [
       "['apple', 'banana', 'mango']"
      ]
     },
     "execution_count": 13,
     "metadata": {},
     "output_type": "execute_result"
    }
   ],
   "source": [
    "a = 'apple','banana','mango'\n",
    "b = list(a)\n",
    "b"
   ]
  },
  {
   "cell_type": "code",
   "execution_count": 14,
   "id": "e8c42dbf-2b2f-4f5d-90ee-bffdebdc7b28",
   "metadata": {},
   "outputs": [
    {
     "name": "stdout",
     "output_type": "stream",
     "text": [
      "True\n"
     ]
    }
   ],
   "source": [
    "print(5>3)\n"
   ]
  },
  {
   "cell_type": "code",
   "execution_count": 1,
   "id": "610370ec-0fd8-460a-b2d2-dabc7773178e",
   "metadata": {},
   "outputs": [
    {
     "name": "stdout",
     "output_type": "stream",
     "text": [
      "50\n"
     ]
    }
   ],
   "source": [
    "a = 10\n",
    "b = 5\n",
    "c = a * b\n",
    "print(c)\n"
   ]
  },
  {
   "cell_type": "code",
   "execution_count": 22,
   "id": "419b598d-fcad-4dfd-9042-fceccd3cf5d8",
   "metadata": {},
   "outputs": [
    {
     "name": "stdout",
     "output_type": "stream",
     "text": [
      "50\n"
     ]
    }
   ],
   "source": [
    "a = 10\n",
    "a *= 5\n",
    "print(a)"
   ]
  },
  {
   "cell_type": "code",
   "execution_count": 6,
   "id": "42a23339-e931-46be-a1ac-b8e2f611e0bd",
   "metadata": {},
   "outputs": [
    {
     "name": "stdout",
     "output_type": "stream",
     "text": [
      "5\n"
     ]
    }
   ],
   "source": [
    "x = 10\n",
    "y = 2\n",
    "z = x/y\n",
    "print(int(z))\n"
   ]
  },
  {
   "cell_type": "code",
   "execution_count": 11,
   "id": "8170ff33-6914-4f58-9b6a-c902e35dbb82",
   "metadata": {},
   "outputs": [
    {
     "data": {
      "text/plain": [
       "5"
      ]
     },
     "execution_count": 11,
     "metadata": {},
     "output_type": "execute_result"
    }
   ],
   "source": [
    "x = 10\n",
    "x /= 2\n",
    "int(x)"
   ]
  },
  {
   "cell_type": "code",
   "execution_count": 21,
   "id": "6cd6ea4a-4e08-4206-8408-b1b760463b90",
   "metadata": {},
   "outputs": [
    {
     "name": "stdout",
     "output_type": "stream",
     "text": [
      "Yes, apple is a fruit!\n"
     ]
    }
   ],
   "source": [
    "fruits = [\"apple\", \"banana\"]\n",
    "if \"apple\" in fruits:\n",
    "    print(\"Yes, apple is a fruit!\")\n"
   ]
  },
  {
   "cell_type": "code",
   "execution_count": 29,
   "id": "1e6f2511-9048-4fbd-8f5b-92c1c0577141",
   "metadata": {},
   "outputs": [
    {
     "name": "stdout",
     "output_type": "stream",
     "text": [
      "5 and 10 are not equal\n"
     ]
    }
   ],
   "source": [
    "if 5 != 10:\n",
    "    print(\"5 and 10 are not equal\")"
   ]
  },
  {
   "cell_type": "code",
   "execution_count": 31,
   "id": "1cb4986b-aa9f-4276-b3a6-713c70ec6a03",
   "metadata": {},
   "outputs": [],
   "source": [
    "carname = \"Volvo\""
   ]
  },
  {
   "cell_type": "code",
   "execution_count": 32,
   "id": "23b12f45-beb5-4303-9c2f-62fbf1ea44e0",
   "metadata": {},
   "outputs": [
    {
     "name": "stdout",
     "output_type": "stream",
     "text": [
      "apple\n"
     ]
    }
   ],
   "source": [
    "fruits = ['apple', 'banana', 'cherry']\n",
    "a, b, c = fruits\n",
    "print(a)"
   ]
  },
  {
   "cell_type": "code",
   "execution_count": 1,
   "id": "4cc62072-1f15-4e21-9998-c7614146c53f",
   "metadata": {},
   "outputs": [
    {
     "name": "stdout",
     "output_type": "stream",
     "text": [
      "35\n"
     ]
    }
   ],
   "source": [
    "print(int(35.88))"
   ]
  },
  {
   "cell_type": "code",
   "execution_count": 2,
   "id": "4a6c6937-27b3-4321-b6a3-9e850c1a4577",
   "metadata": {},
   "outputs": [
    {
     "name": "stdout",
     "output_type": "stream",
     "text": [
      "35.0\n"
     ]
    }
   ],
   "source": [
    "print(float(35))"
   ]
  },
  {
   "cell_type": "code",
   "execution_count": 3,
   "id": "f2dbd638-b57a-408e-bac1-2b137345335e",
   "metadata": {},
   "outputs": [
    {
     "name": "stdout",
     "output_type": "stream",
     "text": [
      "35.8\n"
     ]
    }
   ],
   "source": [
    "print(str(35.80))"
   ]
  },
  {
   "cell_type": "code",
   "execution_count": 4,
   "id": "44e60674-b1d3-4f24-9178-2c9eafafe84b",
   "metadata": {},
   "outputs": [
    {
     "data": {
      "text/plain": [
       "True"
      ]
     },
     "execution_count": 4,
     "metadata": {},
     "output_type": "execute_result"
    }
   ],
   "source": [
    "bool(\"Hello\")"
   ]
  },
  {
   "cell_type": "code",
   "execution_count": 6,
   "id": "e74eb350-0f32-4d29-ba35-4211a0de4e5d",
   "metadata": {},
   "outputs": [
    {
     "data": {
      "text/plain": [
       "'value'"
      ]
     },
     "execution_count": 6,
     "metadata": {},
     "output_type": "execute_result"
    }
   ],
   "source": [
    "variable_name = 'value'"
   ]
  },
  {
   "cell_type": "code",
   "execution_count": 8,
   "id": "e2fb6bef-41eb-44f2-8439-dc42e0a059af",
   "metadata": {},
   "outputs": [
    {
     "name": "stdout",
     "output_type": "stream",
     "text": [
      "At least one of the statements is true\n"
     ]
    }
   ],
   "source": [
    "if 5 == 10 or 4 == 4:\n",
    "    print(\"At least one of the statements is true\")"
   ]
  },
  {
   "cell_type": "code",
   "execution_count": 13,
   "id": "da85e385-af3e-42b4-b004-1740080736ec",
   "metadata": {},
   "outputs": [
    {
     "data": {
      "text/plain": [
       "'o'"
      ]
     },
     "execution_count": 13,
     "metadata": {},
     "output_type": "execute_result"
    }
   ],
   "source": [
    "a = \"Hello, World!\"\n",
    "a [4]  "
   ]
  },
  {
   "cell_type": "code",
   "execution_count": 17,
   "id": "404220f0-607c-4976-9224-a6afefd58234",
   "metadata": {},
   "outputs": [
    {
     "data": {
      "text/plain": [
       "'el,Wrd'"
      ]
     },
     "execution_count": 17,
     "metadata": {},
     "output_type": "execute_result"
    }
   ],
   "source": [
    "a = \"Hello, World!\"\n",
    "a [1:12:2]"
   ]
  },
  {
   "cell_type": "code",
   "execution_count": 18,
   "id": "2085cd5a-d0fc-411e-8319-bcd798c0db14",
   "metadata": {},
   "outputs": [
    {
     "data": {
      "text/plain": [
       "['date', 'cherry', 'banana', 'apple']"
      ]
     },
     "execution_count": 18,
     "metadata": {},
     "output_type": "execute_result"
    }
   ],
   "source": [
    "fruits = [\"apple\", \"banana\", \"cherry\", \"date\"]\n",
    "fruits[::-1] "
   ]
  },
  {
   "cell_type": "code",
   "execution_count": 19,
   "id": "b91709b5-3115-4eea-898c-eca95e2bb78d",
   "metadata": {},
   "outputs": [
    {
     "data": {
      "text/plain": [
       "'!dlroW ,olleH'"
      ]
     },
     "execution_count": 19,
     "metadata": {},
     "output_type": "execute_result"
    }
   ],
   "source": [
    "a = \"Hello, World!\"\n",
    "a[::-1] "
   ]
  },
  {
   "cell_type": "code",
   "execution_count": 26,
   "id": "0326c9da-6f7d-4e39-948e-f4868b9e9c8b",
   "metadata": {},
   "outputs": [
    {
     "name": "stdout",
     "output_type": "stream",
     "text": [
      "[2, 3, 4, 5]\n"
     ]
    }
   ],
   "source": [
    "my_list = [0, 1, 2, 3, 4, 5]\n",
    "print(my_list[2:10])"
   ]
  },
  {
   "cell_type": "code",
   "execution_count": 28,
   "id": "bb51b1ca-b0fc-495c-aba5-dda969a2876d",
   "metadata": {},
   "outputs": [
    {
     "name": "stdout",
     "output_type": "stream",
     "text": [
      "['apple', 'banana', 'cherry', 'date']\n",
      "['banana', 'cherry', 'date']\n",
      "['apple', 'banana', 'cherry', 'date']\n"
     ]
    }
   ],
   "source": [
    "fruits = [\"apple\", \"banana\", \"cherry\", \"date\"]\n",
    "print(fruits[:])\n",
    "print(fruits[1:])\n",
    "print(fruits[::])"
   ]
  },
  {
   "cell_type": "code",
   "execution_count": 30,
   "id": "fe0aa26f-23f7-4030-a37f-7ed696588b05",
   "metadata": {},
   "outputs": [
    {
     "ename": "ValueError",
     "evalue": "slice step cannot be zero",
     "output_type": "error",
     "traceback": [
      "\u001b[1;31m---------------------------------------------------------------------------\u001b[0m",
      "\u001b[1;31mValueError\u001b[0m                                Traceback (most recent call last)",
      "Cell \u001b[1;32mIn[30], line 2\u001b[0m\n\u001b[0;32m      1\u001b[0m fruits \u001b[38;5;241m=\u001b[39m [\u001b[38;5;124m\"\u001b[39m\u001b[38;5;124mapple\u001b[39m\u001b[38;5;124m\"\u001b[39m, \u001b[38;5;124m\"\u001b[39m\u001b[38;5;124mbanana\u001b[39m\u001b[38;5;124m\"\u001b[39m, \u001b[38;5;124m\"\u001b[39m\u001b[38;5;124mcherry\u001b[39m\u001b[38;5;124m\"\u001b[39m, \u001b[38;5;124m\"\u001b[39m\u001b[38;5;124mdate\u001b[39m\u001b[38;5;124m\"\u001b[39m]\n\u001b[1;32m----> 2\u001b[0m fruits[::\u001b[38;5;241m0\u001b[39m]\n",
      "\u001b[1;31mValueError\u001b[0m: slice step cannot be zero"
     ]
    }
   ],
   "source": [
    "fruits = [\"apple\", \"banana\", \"cherry\", \"date\"]\n",
    "fruits[::0]"
   ]
  },
  {
   "cell_type": "code",
   "execution_count": null,
   "id": "aaace9b3-03b6-4298-9aab-d0212153463f",
   "metadata": {},
   "outputs": [],
   "source": []
  }
 ],
 "metadata": {
  "kernelspec": {
   "display_name": "Python 3 (ipykernel)",
   "language": "python",
   "name": "python3"
  },
  "language_info": {
   "codemirror_mode": {
    "name": "ipython",
    "version": 3
   },
   "file_extension": ".py",
   "mimetype": "text/x-python",
   "name": "python",
   "nbconvert_exporter": "python",
   "pygments_lexer": "ipython3",
   "version": "3.12.4"
  }
 },
 "nbformat": 4,
 "nbformat_minor": 5
}
