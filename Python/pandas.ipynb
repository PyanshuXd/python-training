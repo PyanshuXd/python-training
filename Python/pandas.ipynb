{
 "cells": [
  {
   "cell_type": "code",
   "execution_count": 23,
   "id": "bdf1125a-0c25-49d5-bde7-3a22502881e2",
   "metadata": {},
   "outputs": [
    {
     "name": "stdout",
     "output_type": "stream",
     "text": [
      "     PatientID      PatientName  Age Gender BloodType     Diagnosis  \\\n",
      "0            1    David Johnson    3  Other        A+           Flu   \n",
      "1            2                A   82  Other        A-      Covid-19   \n",
      "2            3   William Taylor   56  Other        B+  Hypertension   \n",
      "3            4    William Davis   36  Other       AB+      Covid-19   \n",
      "4            5     Robert Davis   78   Male        B+           Flu   \n",
      "..         ...              ...  ...    ...       ...           ...   \n",
      "995        996      Linda Lopez    3   Male        B-      Covid-19   \n",
      "996        997     David Martin    3  Other        A-  Hypertension   \n",
      "997        998              HHH   70  Other        O+      Covid-19   \n",
      "998        999  Joseph Martinez   37  Other        A-      Diabetes   \n",
      "999       1000       John Moore   10   Male        O-        Asthma   \n",
      "\n",
      "      Treatment AdmissionDate DischargeDate     TotalBill  \\\n",
      "0    Medication    2021-01-01    2021-01-02  14383.782354   \n",
      "1    Medication    2021-01-02    2021-01-03  15512.302210   \n",
      "2       Therapy    2021-01-03    2021-01-04   4039.296436   \n",
      "3       Therapy    2021-01-04    2021-01-05   4226.498069   \n",
      "4       Surgery    2021-01-05    2021-01-06   2562.768983   \n",
      "..          ...           ...           ...           ...   \n",
      "995     Therapy    2023-09-23    2023-09-24  18796.590764   \n",
      "996     Surgery    2023-09-24    2023-09-25   7505.551827   \n",
      "997     Surgery    2023-09-25    2023-09-26  13635.508703   \n",
      "998  Medication    2023-09-26    2023-09-27   6075.690059   \n",
      "999  Medication    2023-09-27    2023-09-28  19775.994121   \n",
      "\n",
      "                             Full Prescription Details  \n",
      "0    Furosemide 40mg, three times a day for 5 days;...  \n",
      "1    Losartan 50mg, twice a day for 7 days; Amoxici...  \n",
      "2    Amlodipine 5mg, twice a day for 5 days; Gabape...  \n",
      "3    Azithromycin 250mg, three times a day as neede...  \n",
      "4    Duloxetine 60mg, three times a day for 5 days;...  \n",
      "..                                                 ...  \n",
      "995  Gabapentin 300mg, once a day for 10 days; Omep...  \n",
      "996  Insulin Glargine 100 units/mL, once a day as n...  \n",
      "997  Furosemide 40mg, once a day for 5 days; Ibupro...  \n",
      "998  Atorvastatin 10mg, three times a day for 5 day...  \n",
      "999  Hydrochlorothiazide 25mg, once a day for 7 day...  \n",
      "\n",
      "[1000 rows x 11 columns]\n"
     ]
    }
   ],
   "source": [
    "import pandas as pd\n",
    "a = pd.read_excel('C:/Users/Administrator/Desktop/Excel/Patient_Dataset.xlsx')\n",
    "print(a)                                                    # Reading an Excel or CSV file"
   ]
  },
  {
   "cell_type": "code",
   "execution_count": 25,
   "id": "8e7548e1-cfcf-4823-ad4a-590dc66954f6",
   "metadata": {},
   "outputs": [
    {
     "name": "stdout",
     "output_type": "stream",
     "text": [
      "   PatientID     PatientName  Age Gender BloodType     Diagnosis   Treatment  \\\n",
      "0          1   David Johnson    3  Other        A+           Flu  Medication   \n",
      "1          2               A   82  Other        A-      Covid-19  Medication   \n",
      "2          3  William Taylor   56  Other        B+  Hypertension     Therapy   \n",
      "3          4   William Davis   36  Other       AB+      Covid-19     Therapy   \n",
      "4          5    Robert Davis   78   Male        B+           Flu     Surgery   \n",
      "\n",
      "  AdmissionDate DischargeDate     TotalBill  \\\n",
      "0    2021-01-01    2021-01-02  14383.782354   \n",
      "1    2021-01-02    2021-01-03  15512.302210   \n",
      "2    2021-01-03    2021-01-04   4039.296436   \n",
      "3    2021-01-04    2021-01-05   4226.498069   \n",
      "4    2021-01-05    2021-01-06   2562.768983   \n",
      "\n",
      "                           Full Prescription Details  \n",
      "0  Furosemide 40mg, three times a day for 5 days;...  \n",
      "1  Losartan 50mg, twice a day for 7 days; Amoxici...  \n",
      "2  Amlodipine 5mg, twice a day for 5 days; Gabape...  \n",
      "3  Azithromycin 250mg, three times a day as neede...  \n",
      "4  Duloxetine 60mg, three times a day for 5 days;...  \n"
     ]
    }
   ],
   "source": [
    "import pandas as pd\n",
    "a = pd.read_excel('C:/Users/Administrator/Desktop/Excel/Patient_Dataset.xlsx')\n",
    "print(a.head(5))                                                       # Get top 5 Data by using head()"
   ]
  },
  {
   "cell_type": "code",
   "execution_count": 27,
   "id": "a6df9996-bfde-43b7-b83a-6186bf6318a0",
   "metadata": {},
   "outputs": [
    {
     "name": "stdout",
     "output_type": "stream",
     "text": [
      "     PatientID      PatientName  Age Gender BloodType     Diagnosis  \\\n",
      "996        997     David Martin    3  Other        A-  Hypertension   \n",
      "997        998              HHH   70  Other        O+      Covid-19   \n",
      "998        999  Joseph Martinez   37  Other        A-      Diabetes   \n",
      "999       1000       John Moore   10   Male        O-        Asthma   \n",
      "\n",
      "      Treatment AdmissionDate DischargeDate     TotalBill  \\\n",
      "996     Surgery    2023-09-24    2023-09-25   7505.551827   \n",
      "997     Surgery    2023-09-25    2023-09-26  13635.508703   \n",
      "998  Medication    2023-09-26    2023-09-27   6075.690059   \n",
      "999  Medication    2023-09-27    2023-09-28  19775.994121   \n",
      "\n",
      "                             Full Prescription Details  \n",
      "996  Insulin Glargine 100 units/mL, once a day as n...  \n",
      "997  Furosemide 40mg, once a day for 5 days; Ibupro...  \n",
      "998  Atorvastatin 10mg, three times a day for 5 day...  \n",
      "999  Hydrochlorothiazide 25mg, once a day for 7 day...  \n"
     ]
    }
   ],
   "source": [
    "import pandas as pd\n",
    "a = pd.read_excel('C:/Users/Administrator/Desktop/Excel/Patient_Dataset.xlsx')\n",
    "print(a.tail(4))                                                       # Getting least 4 Data by using tail()"
   ]
  },
  {
   "cell_type": "code",
   "execution_count": 29,
   "id": "6f9bb1b5-2ad5-4afc-8aea-0a29eda6448c",
   "metadata": {},
   "outputs": [
    {
     "data": {
      "text/html": [
       "<div>\n",
       "<style scoped>\n",
       "    .dataframe tbody tr th:only-of-type {\n",
       "        vertical-align: middle;\n",
       "    }\n",
       "\n",
       "    .dataframe tbody tr th {\n",
       "        vertical-align: top;\n",
       "    }\n",
       "\n",
       "    .dataframe thead th {\n",
       "        text-align: right;\n",
       "    }\n",
       "</style>\n",
       "<table border=\"1\" class=\"dataframe\">\n",
       "  <thead>\n",
       "    <tr style=\"text-align: right;\">\n",
       "      <th></th>\n",
       "      <th>PatientID</th>\n",
       "      <th>Age</th>\n",
       "      <th>AdmissionDate</th>\n",
       "      <th>DischargeDate</th>\n",
       "      <th>TotalBill</th>\n",
       "    </tr>\n",
       "  </thead>\n",
       "  <tbody>\n",
       "    <tr>\n",
       "      <th>count</th>\n",
       "      <td>1000.000000</td>\n",
       "      <td>1000.000000</td>\n",
       "      <td>1000</td>\n",
       "      <td>1000</td>\n",
       "      <td>1000.000000</td>\n",
       "    </tr>\n",
       "    <tr>\n",
       "      <th>mean</th>\n",
       "      <td>500.500000</td>\n",
       "      <td>50.500000</td>\n",
       "      <td>2022-05-15 12:00:00</td>\n",
       "      <td>2022-05-16 12:00:00</td>\n",
       "      <td>9436.534952</td>\n",
       "    </tr>\n",
       "    <tr>\n",
       "      <th>min</th>\n",
       "      <td>1.000000</td>\n",
       "      <td>0.000000</td>\n",
       "      <td>2021-01-01 00:00:00</td>\n",
       "      <td>2021-01-02 00:00:00</td>\n",
       "      <td>0.000000</td>\n",
       "    </tr>\n",
       "    <tr>\n",
       "      <th>25%</th>\n",
       "      <td>250.750000</td>\n",
       "      <td>26.000000</td>\n",
       "      <td>2021-09-07 18:00:00</td>\n",
       "      <td>2021-09-08 18:00:00</td>\n",
       "      <td>3885.035879</td>\n",
       "    </tr>\n",
       "    <tr>\n",
       "      <th>50%</th>\n",
       "      <td>500.500000</td>\n",
       "      <td>51.500000</td>\n",
       "      <td>2022-05-15 12:00:00</td>\n",
       "      <td>2022-05-16 12:00:00</td>\n",
       "      <td>9361.082648</td>\n",
       "    </tr>\n",
       "    <tr>\n",
       "      <th>75%</th>\n",
       "      <td>750.250000</td>\n",
       "      <td>75.000000</td>\n",
       "      <td>2023-01-20 06:00:00</td>\n",
       "      <td>2023-01-21 06:00:00</td>\n",
       "      <td>14552.941322</td>\n",
       "    </tr>\n",
       "    <tr>\n",
       "      <th>max</th>\n",
       "      <td>1000.000000</td>\n",
       "      <td>99.000000</td>\n",
       "      <td>2023-09-27 00:00:00</td>\n",
       "      <td>2023-09-28 00:00:00</td>\n",
       "      <td>19979.201527</td>\n",
       "    </tr>\n",
       "    <tr>\n",
       "      <th>std</th>\n",
       "      <td>288.819436</td>\n",
       "      <td>28.599859</td>\n",
       "      <td>NaN</td>\n",
       "      <td>NaN</td>\n",
       "      <td>6109.727794</td>\n",
       "    </tr>\n",
       "  </tbody>\n",
       "</table>\n",
       "</div>"
      ],
      "text/plain": [
       "         PatientID          Age        AdmissionDate        DischargeDate  \\\n",
       "count  1000.000000  1000.000000                 1000                 1000   \n",
       "mean    500.500000    50.500000  2022-05-15 12:00:00  2022-05-16 12:00:00   \n",
       "min       1.000000     0.000000  2021-01-01 00:00:00  2021-01-02 00:00:00   \n",
       "25%     250.750000    26.000000  2021-09-07 18:00:00  2021-09-08 18:00:00   \n",
       "50%     500.500000    51.500000  2022-05-15 12:00:00  2022-05-16 12:00:00   \n",
       "75%     750.250000    75.000000  2023-01-20 06:00:00  2023-01-21 06:00:00   \n",
       "max    1000.000000    99.000000  2023-09-27 00:00:00  2023-09-28 00:00:00   \n",
       "std     288.819436    28.599859                  NaN                  NaN   \n",
       "\n",
       "          TotalBill  \n",
       "count   1000.000000  \n",
       "mean    9436.534952  \n",
       "min        0.000000  \n",
       "25%     3885.035879  \n",
       "50%     9361.082648  \n",
       "75%    14552.941322  \n",
       "max    19979.201527  \n",
       "std     6109.727794  "
      ]
     },
     "execution_count": 29,
     "metadata": {},
     "output_type": "execute_result"
    }
   ],
   "source": [
    "a.describe()               # Describe() shows data representation only for numeric values"
   ]
  },
  {
   "cell_type": "code",
   "execution_count": 31,
   "id": "0e0fc531-14b9-4c73-a2a2-67c60a27602b",
   "metadata": {},
   "outputs": [
    {
     "name": "stdout",
     "output_type": "stream",
     "text": [
      "PatientID                    0\n",
      "PatientName                  0\n",
      "Age                          0\n",
      "Gender                       0\n",
      "BloodType                    0\n",
      "Diagnosis                    0\n",
      "Treatment                    0\n",
      "AdmissionDate                0\n",
      "DischargeDate                0\n",
      "TotalBill                    0\n",
      "Full Prescription Details    0\n",
      "dtype: int64\n"
     ]
    }
   ],
   "source": [
    "print(a.isnull().sum())           # Shows all null values presented in the Data and sum is for count null value"
   ]
  },
  {
   "cell_type": "code",
   "execution_count": 39,
   "id": "4e6e2353-8427-4d22-909b-f535e6637b65",
   "metadata": {},
   "outputs": [
    {
     "name": "stdout",
     "output_type": "stream",
     "text": [
      "0\n"
     ]
    }
   ],
   "source": [
    "print(a['PatientID'].duplicated().sum())       # duplicate data which is presented in particular Column and count"
   ]
  },
  {
   "cell_type": "code",
   "execution_count": 41,
   "id": "cf71cd56-e2f4-42af-aadf-aa3c29cf9f3c",
   "metadata": {},
   "outputs": [
    {
     "name": "stdout",
     "output_type": "stream",
     "text": [
      "0      False\n",
      "1      False\n",
      "2      False\n",
      "3      False\n",
      "4      False\n",
      "       ...  \n",
      "995    False\n",
      "996    False\n",
      "997    False\n",
      "998    False\n",
      "999    False\n",
      "Name: PatientID, Length: 1000, dtype: bool\n"
     ]
    }
   ],
   "source": [
    "print(a['PatientID'].duplicated())             # duplicate data which is presented in particular Column"
   ]
  },
  {
   "cell_type": "code",
   "execution_count": null,
   "id": "3581fda4-19d7-4a69-99b5-a2fedca8d468",
   "metadata": {},
   "outputs": [],
   "source": []
  }
 ],
 "metadata": {
  "kernelspec": {
   "display_name": "Python 3 (ipykernel)",
   "language": "python",
   "name": "python3"
  },
  "language_info": {
   "codemirror_mode": {
    "name": "ipython",
    "version": 3
   },
   "file_extension": ".py",
   "mimetype": "text/x-python",
   "name": "python",
   "nbconvert_exporter": "python",
   "pygments_lexer": "ipython3",
   "version": "3.12.4"
  }
 },
 "nbformat": 4,
 "nbformat_minor": 5
}
