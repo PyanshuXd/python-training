{
 "cells": [
  {
   "cell_type": "code",
   "execution_count": 4,
   "id": "155c10fe-9842-4ad1-ae12-dfecb11933b7",
   "metadata": {},
   "outputs": [
    {
     "name": "stdin",
     "output_type": "stream",
     "text": [
      "Enter a number to get Table 25\n"
     ]
    },
    {
     "name": "stdout",
     "output_type": "stream",
     "text": [
      "25\n",
      "50\n",
      "75\n",
      "100\n",
      "125\n",
      "150\n",
      "175\n",
      "200\n",
      "225\n",
      "250\n"
     ]
    }
   ],
   "source": [
    "n = int(input(\"Enter a number to get Table\"))\n",
    "i = 1\n",
    "while i<=10:\n",
    "    print(n*i)\n",
    "    i += 1"
   ]
  },
  {
   "cell_type": "code",
   "execution_count": 6,
   "id": "d8d3319f-528f-4a42-870e-5504952587ed",
   "metadata": {},
   "outputs": [
    {
     "name": "stdout",
     "output_type": "stream",
     "text": [
      "3125\n"
     ]
    }
   ],
   "source": [
    "x = 5\n",
    "print()\n"
   ]
  },
  {
   "cell_type": "code",
   "execution_count": 1,
   "id": "6d6c7a75-9500-46a3-a00d-e7f1328316c5",
   "metadata": {},
   "outputs": [
    {
     "name": "stdout",
     "output_type": "stream",
     "text": [
      "1\n",
      "4\n",
      "9\n",
      "16\n",
      "25\n",
      "36\n",
      "49\n",
      "64\n",
      "81\n"
     ]
    }
   ],
   "source": [
    "i = 1\n",
    "while i in range(1,10):\n",
    "    print(i ** 2)\n",
    "    i += 1"
   ]
  },
  {
   "cell_type": "code",
   "execution_count": 5,
   "id": "94d8698c-fda7-4ea8-8c66-b1cc671590c2",
   "metadata": {},
   "outputs": [
    {
     "name": "stdout",
     "output_type": "stream",
     "text": [
      "Pyanshu Shaw\n"
     ]
    }
   ],
   "source": [
    "first = 'Pyanshu '\n",
    "last = 'Shaw'\n",
    "full = first+last             #use of concatinate (+)\n",
    "print(full)"
   ]
  },
  {
   "cell_type": "code",
   "execution_count": 7,
   "id": "b92c5536-b94a-4bde-be2f-ae2975553b62",
   "metadata": {},
   "outputs": [
    {
     "data": {
      "text/plain": [
       "'1020'"
      ]
     },
     "execution_count": 7,
     "metadata": {},
     "output_type": "execute_result"
    }
   ],
   "source": [
    "x = '10'\n",
    "y = '20'                    #use of concatinate with numbers\n",
    "x+y"
   ]
  },
  {
   "cell_type": "code",
   "execution_count": 14,
   "id": "8443a498-34d3-4c3c-861d-1580c356c432",
   "metadata": {},
   "outputs": [
    {
     "name": "stdout",
     "output_type": "stream",
     "text": [
      "My name is Pyanshu, I'm 23 years old\n"
     ]
    }
   ],
   "source": [
    "age = \"23\"\n",
    "text = \"My name is Pyanshu, I'm\"\n",
    "text1 = \"years old\"                    #use of concatinate with comma(,)\n",
    "print(text,age,text1)"
   ]
  },
  {
   "cell_type": "code",
   "execution_count": 18,
   "id": "e6ccf505-6f5a-4d80-92a1-a50f99b12154",
   "metadata": {},
   "outputs": [
    {
     "name": "stdout",
     "output_type": "stream",
     "text": [
      "Hello World!\n"
     ]
    },
    {
     "data": {
      "text/plain": [
       "'   Hello World!     '"
      ]
     },
     "execution_count": 18,
     "metadata": {},
     "output_type": "execute_result"
    }
   ],
   "source": [
    "a = \"   Hello World!     \"\n",
    "print(a.strip())\n",
    "a"
   ]
  },
  {
   "cell_type": "code",
   "execution_count": 19,
   "id": "cee9b171-034f-44d7-b9fc-dcc1bd3bb788",
   "metadata": {},
   "outputs": [
    {
     "data": {
      "text/plain": [
       "'Sunday'"
      ]
     },
     "execution_count": 19,
     "metadata": {},
     "output_type": "execute_result"
    }
   ],
   "source": [
    "a = 'Sundey'\n",
    "a.replace('e','a')"
   ]
  },
  {
   "cell_type": "code",
   "execution_count": 24,
   "id": "4aa5c99f-f5e4-4816-8ed0-c2ab2bf7e545",
   "metadata": {},
   "outputs": [
    {
     "name": "stdout",
     "output_type": "stream",
     "text": [
      "1-2-3-4-5-6-7-8-9-10-"
     ]
    }
   ],
   "source": [
    "for i in range(1,11,1):\n",
    "    print(i,end=\"-\")"
   ]
  },
  {
   "cell_type": "code",
   "execution_count": 32,
   "id": "3247477e-523e-4d12-b140-7358be7949f3",
   "metadata": {},
   "outputs": [
    {
     "name": "stdout",
     "output_type": "stream",
     "text": [
      "1\n",
      "3\n",
      "6\n",
      "10\n"
     ]
    }
   ],
   "source": [
    "sum = 0\n",
    "for i in range(1,5):\n",
    "    sum += i\n",
    "    print(sum)"
   ]
  },
  {
   "cell_type": "code",
   "execution_count": 35,
   "id": "694a4baa-6265-4775-a8ec-639285357ead",
   "metadata": {},
   "outputs": [
    {
     "name": "stdout",
     "output_type": "stream",
     "text": [
      "40.0\n"
     ]
    }
   ],
   "source": [
    "n = [10,20,30,40,50,60,70]\n",
    "sum = 0\n",
    "for i in n:\n",
    "    sum += i\n",
    "length = len(n)\n",
    "avg = sum/length\n",
    "print(avg)"
   ]
  },
  {
   "cell_type": "code",
   "execution_count": 42,
   "id": "b91e66b9-34c9-4c81-b79d-09a6962ed08a",
   "metadata": {},
   "outputs": [
    {
     "name": "stdout",
     "output_type": "stream",
     "text": [
      "55\n"
     ]
    }
   ],
   "source": [
    "sum = 0\n",
    "for i in range(1, 11):\n",
    "    sum += i\n",
    "print(sum)"
   ]
  },
  {
   "cell_type": "code",
   "execution_count": 50,
   "id": "eecb5cfe-b25a-41ac-ae28-32120cfe70c3",
   "metadata": {},
   "outputs": [
    {
     "name": "stdout",
     "output_type": "stream",
     "text": [
      "2 4 6 8 10 12 14 16 18 20 "
     ]
    }
   ],
   "source": [
    "for i in range(1, 21):\n",
    "    if i % 2 == 0:\n",
    "        print(i,end=\" \")"
   ]
  },
  {
   "cell_type": "code",
   "execution_count": 63,
   "id": "110044ef-9751-4935-9fbd-0bc51bbb20c3",
   "metadata": {},
   "outputs": [
    {
     "name": "stdout",
     "output_type": "stream",
     "text": [
      "1 4 9 16 25 "
     ]
    }
   ],
   "source": [
    "for i in range(1,6):\n",
    "    print(i ** 2,end = \" \")\n",
    "    i += 1"
   ]
  },
  {
   "cell_type": "code",
   "execution_count": 71,
   "id": "873b3eb7-5af6-451c-b35f-8b014207d30c",
   "metadata": {},
   "outputs": [
    {
     "name": "stdout",
     "output_type": "stream",
     "text": [
      "5\n",
      "4\n",
      "3\n",
      "2\n",
      "1\n"
     ]
    }
   ],
   "source": [
    "for i in range(5,0,-1):\n",
    "    print(i)\n",
    "       "
   ]
  },
  {
   "cell_type": "code",
   "execution_count": 76,
   "id": "c127850c-342d-48ee-8442-bdc7de5e370b",
   "metadata": {},
   "outputs": [
    {
     "name": "stdout",
     "output_type": "stream",
     "text": [
      "100\n"
     ]
    }
   ],
   "source": [
    "odd = 0\n",
    "for i in range(0,21):\n",
    "    if i % 2 != 0:\n",
    "        odd += i\n",
    "print(odd)"
   ]
  },
  {
   "cell_type": "code",
   "execution_count": 77,
   "id": "a8fd16da-58ee-4f50-8747-7a058fba7b0d",
   "metadata": {},
   "outputs": [
    {
     "name": "stdout",
     "output_type": "stream",
     "text": [
      "P\n",
      "y\n",
      "t\n",
      "h\n",
      "o\n",
      "n\n"
     ]
    }
   ],
   "source": [
    "for i in \"Python\":\n",
    "    print(i)"
   ]
  },
  {
   "cell_type": "code",
   "execution_count": 85,
   "id": "e4d5c1a8-9090-46ed-b657-6bad251cc4fc",
   "metadata": {},
   "outputs": [
    {
     "name": "stdout",
     "output_type": "stream",
     "text": [
      "3\n",
      "6\n",
      "9\n",
      "12\n",
      "15\n",
      "18\n",
      "21\n",
      "24\n",
      "27\n",
      "30\n"
     ]
    }
   ],
   "source": [
    "n = 3\n",
    "for i in range(1,11):\n",
    "    print(i*n)\n",
    "    i+=1"
   ]
  },
  {
   "cell_type": "code",
   "execution_count": null,
   "id": "f661bbe8-05a0-4bf2-aa3a-62f2535a80cc",
   "metadata": {},
   "outputs": [],
   "source": []
  }
 ],
 "metadata": {
  "kernelspec": {
   "display_name": "Python 3 (ipykernel)",
   "language": "python",
   "name": "python3"
  },
  "language_info": {
   "codemirror_mode": {
    "name": "ipython",
    "version": 3
   },
   "file_extension": ".py",
   "mimetype": "text/x-python",
   "name": "python",
   "nbconvert_exporter": "python",
   "pygments_lexer": "ipython3",
   "version": "3.12.4"
  }
 },
 "nbformat": 4,
 "nbformat_minor": 5
}
