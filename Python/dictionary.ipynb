{
 "cells": [
  {
   "cell_type": "code",
   "execution_count": 2,
   "id": "8d8e8db9-41fc-42b7-92a9-50df8c1c6e2e",
   "metadata": {},
   "outputs": [
    {
     "name": "stdout",
     "output_type": "stream",
     "text": [
      "{'Name': 'Pyanshu', 'Country': 'India', 'Phone': '6290876XXXX'}\n"
     ]
    }
   ],
   "source": [
    "person = {\"Name\" : 'Pyanshu', \"Country\" : \"India\", \"Phone\" : \"6290876XXXX\"}\n",
    "print(person)"
   ]
  },
  {
   "cell_type": "code",
   "execution_count": 3,
   "id": "334355e2-0996-41dc-9d73-1c9c1c9607ad",
   "metadata": {},
   "outputs": [
    {
     "name": "stdout",
     "output_type": "stream",
     "text": [
      "{'Name': 'Pyanshu', 'Country': 'India', 'Phone': [9265789286, 6854935876, 6290879080]}\n"
     ]
    }
   ],
   "source": [
    "person = {\"Name\" : 'Pyanshu', \"Country\" : \"India\", \"Phone\" : [9265789286,6854935876,6290879080]}\n",
    "print(person)"
   ]
  },
  {
   "cell_type": "code",
   "execution_count": 12,
   "id": "4da96da5-0140-4ff1-a405-10b5fcb591e8",
   "metadata": {},
   "outputs": [
    {
     "name": "stdout",
     "output_type": "stream",
     "text": [
      "{'Name': 'Pyanshu', 'Country': 'India', 'Phone': [9265789286, 6854935876, 6290879080]}\n"
     ]
    }
   ],
   "source": [
    "person = dict([(\"Name\" , 'Pyanshu'), (\"Country\" , \"India\"), (\"Phone\" , [9265789286,6854935876,6290879080])])\n",
    "print(person)"
   ]
  },
  {
   "cell_type": "code",
   "execution_count": 15,
   "id": "307f1061-d6eb-4c95-abc6-4b064bf8622a",
   "metadata": {},
   "outputs": [
    {
     "name": "stdout",
     "output_type": "stream",
     "text": [
      "Pyanshu\n"
     ]
    }
   ],
   "source": [
    "person = {\"Name\" : 'Pyanshu', \"Country\" : \"India\", \"Phone\" : \"6290876XXXX\"}\n",
    "print(person['Name'])"
   ]
  },
  {
   "cell_type": "code",
   "execution_count": 17,
   "id": "4f8a7ff9-78a6-4956-b4c4-0792720aba14",
   "metadata": {},
   "outputs": [
    {
     "name": "stdout",
     "output_type": "stream",
     "text": [
      "India\n"
     ]
    }
   ],
   "source": [
    "person = {\"Name\" : 'Pyanshu', \"Country\" : \"India\", \"Phone\" : \"6290876XXXX\"}\n",
    "print(person.get('Country'))"
   ]
  },
  {
   "cell_type": "code",
   "execution_count": 21,
   "id": "c66c7fc8-22e6-4e86-8a5e-cbd7021bbb14",
   "metadata": {},
   "outputs": [
    {
     "name": "stdout",
     "output_type": "stream",
     "text": [
      "dict_keys(['Name', 'Country', 'Phone'])\n"
     ]
    }
   ],
   "source": [
    "person = {\"Name\" : 'Pyanshu', \"Country\" : \"India\", \"Phone\" : \"6290876XXXX\"}\n",
    "print(person.keys())"
   ]
  },
  {
   "cell_type": "code",
   "execution_count": 29,
   "id": "8d34aa08-c6f5-4894-babf-1604fdb1a582",
   "metadata": {},
   "outputs": [
    {
     "name": "stdout",
     "output_type": "stream",
     "text": [
      "dict_values(['Pyanshu', 'India', '6290876XXXX'])\n"
     ]
    }
   ],
   "source": [
    "person = {\"Name\" : 'Pyanshu', \"Country\" : \"India\", \"Phone\" : \"6290876XXXX\"}\n",
    "print(person.values())"
   ]
  },
  {
   "cell_type": "code",
   "execution_count": 23,
   "id": "eed33206-5c26-49f1-95db-9d671392814c",
   "metadata": {},
   "outputs": [
    {
     "name": "stdout",
     "output_type": "stream",
     "text": [
      "dict_items([('Name', 'Pyanshu'), ('Country', 'India'), ('Phone', '6290876XXXX')])\n"
     ]
    }
   ],
   "source": [
    "person = {\"Name\" : 'Pyanshu', \"Country\" : \"India\", \"Phone\" : \"6290876XXXX\"}\n",
    "print(person.items())"
   ]
  },
  {
   "cell_type": "code",
   "execution_count": 33,
   "id": "8c28dee0-c4ce-4f07-b420-8e9e7a2c9f62",
   "metadata": {},
   "outputs": [
    {
     "name": "stdout",
     "output_type": "stream",
     "text": [
      "Name : Pyanshu\n",
      "Country : India\n",
      "Phone : 6290876XXXX\n"
     ]
    }
   ],
   "source": [
    "person = {\"Name\" : 'Pyanshu', \"Country\" : \"India\", \"Phone\" : \"6290876XXXX\"}\n",
    "for i in person:\n",
    "    print(i,':',person[i])"
   ]
  },
  {
   "cell_type": "code",
   "execution_count": 88,
   "id": "48f0ab2d-791b-4c9a-bc9c-ac5430775039",
   "metadata": {},
   "outputs": [
    {
     "name": "stdout",
     "output_type": "stream",
     "text": [
      "Name: Abhishek \n",
      "Country: Korea\n"
     ]
    }
   ],
   "source": [
    "person = {\n",
    "    \"Name\": ['Pyanshu', 'Abhishek'],\n",
    "    \"Country\": ['India', 'Korea'],\n",
    "    \"Phone\": [9265789286, 6854935876, 6290879080]\n",
    "}\n",
    "name = person[\"Name\"][1] \n",
    "country = person[\"Country\"][1]\n",
    "\n",
    "print(\"Name:\",name,\"\\n\"\"Country:\",country)"
   ]
  },
  {
   "cell_type": "code",
   "execution_count": 47,
   "id": "970c0101-a19c-4248-be04-e740407187d6",
   "metadata": {},
   "outputs": [
    {
     "name": "stdout",
     "output_type": "stream",
     "text": [
      "{'Name': 'Pyanshu', 'Country': 'India', 'Phone': '6290876XXXX', 'Weight': 30}\n"
     ]
    }
   ],
   "source": [
    "person = {\"Name\" : 'Pyanshu', \"Country\" : \"India\", \"Phone\" : \"6290876XXXX\"}\n",
    "person['Weight'] = 30\n",
    "print(person)"
   ]
  },
  {
   "cell_type": "code",
   "execution_count": 48,
   "id": "e9d326dd-21be-4c73-a4a5-5cfddf7a59b3",
   "metadata": {},
   "outputs": [
    {
     "name": "stdout",
     "output_type": "stream",
     "text": [
      "{'Name': 'Pyanshu', 'Country': 'India', 'Phone': '6290876XXXX', 'Weight': 30, 'Height': 6}\n"
     ]
    }
   ],
   "source": [
    "person = {\"Name\" : 'Pyanshu', \"Country\" : \"India\", \"Phone\" : \"6290876XXXX\"}\n",
    "person.update({'Weight' : 30, 'Height' : 6})\n",
    "print(person)"
   ]
  },
  {
   "cell_type": "code",
   "execution_count": 51,
   "id": "89e60577-a941-49af-86fb-23222bc43660",
   "metadata": {},
   "outputs": [
    {
     "name": "stdout",
     "output_type": "stream",
     "text": [
      "{'Name': 'Pyanshu', 'Country': 'India', 'Phone': '6290876XXXX', 'City': 'Kolkata', 'Company': 'Dataspace'}\n"
     ]
    }
   ],
   "source": [
    "person = {\"Name\" : 'Pyanshu', \"Country\" : \"India\", \"Phone\" : \"6290876XXXX\"}\n",
    "person.update([(\"City\" , 'Kolkata'), (\"Company\" , \"Dataspace\")])\n",
    "print(person)"
   ]
  },
  {
   "cell_type": "code",
   "execution_count": 55,
   "id": "ae8ec229-b839-44bf-b588-834dad9e57c0",
   "metadata": {},
   "outputs": [
    {
     "name": "stdout",
     "output_type": "stream",
     "text": [
      "('Height', 6)\n",
      "{'Name': 'Pyanshu', 'Country': 'India', 'Phone': '6290876XXXX', 'Weight': 30}\n"
     ]
    }
   ],
   "source": [
    "person = {'Name': 'Pyanshu', 'Country': 'India', 'Phone': '6290876XXXX', 'Weight': 30, 'Height': 6}\n",
    "d = person.popitem()\n",
    "print(d)\n",
    "print(person)"
   ]
  },
  {
   "cell_type": "code",
   "execution_count": 56,
   "id": "5c25541a-9b23-4c75-a585-bc0139a7608f",
   "metadata": {},
   "outputs": [
    {
     "name": "stdout",
     "output_type": "stream",
     "text": [
      "6290876XXXX\n",
      "{'Name': 'Pyanshu', 'Country': 'India', 'Weight': 30, 'Height': 6}\n"
     ]
    }
   ],
   "source": [
    "person = {'Name': 'Pyanshu', 'Country': 'India', 'Phone': '6290876XXXX', 'Weight': 30, 'Height': 6}\n",
    "d = person.pop('Phone')\n",
    "print(d)\n",
    "print(person)"
   ]
  },
  {
   "cell_type": "code",
   "execution_count": 59,
   "id": "46ad7873-0677-43dc-82ec-2eac0e4c7486",
   "metadata": {},
   "outputs": [
    {
     "data": {
      "text/plain": [
       "True"
      ]
     },
     "execution_count": 59,
     "metadata": {},
     "output_type": "execute_result"
    }
   ],
   "source": [
    "person = {'Name': 'Pyanshu', 'Country': 'India', 'Phone': '6290876XXXX', 'Weight': 30, 'Height': 6}\n",
    "x = 'India'\n",
    "x in person.values()"
   ]
  },
  {
   "cell_type": "code",
   "execution_count": 60,
   "id": "f8be793d-88bc-4f75-ba95-1ca4b3cafda5",
   "metadata": {},
   "outputs": [
    {
     "data": {
      "text/plain": [
       "False"
      ]
     },
     "execution_count": 60,
     "metadata": {},
     "output_type": "execute_result"
    }
   ],
   "source": [
    "person = {'Name': 'Pyanshu', 'Country': 'India', 'Phone': '6290876XXXX', 'Weight': 30, 'Height': 6}\n",
    "x = 'State'\n",
    "x in person.keys()"
   ]
  },
  {
   "cell_type": "code",
   "execution_count": null,
   "id": "b33b206f-c0bc-4b40-b29b-087bdd1d62e0",
   "metadata": {},
   "outputs": [],
   "source": []
  }
 ],
 "metadata": {
  "kernelspec": {
   "display_name": "Python 3 (ipykernel)",
   "language": "python",
   "name": "python3"
  },
  "language_info": {
   "codemirror_mode": {
    "name": "ipython",
    "version": 3
   },
   "file_extension": ".py",
   "mimetype": "text/x-python",
   "name": "python",
   "nbconvert_exporter": "python",
   "pygments_lexer": "ipython3",
   "version": "3.12.4"
  }
 },
 "nbformat": 4,
 "nbformat_minor": 5
}
