{
 "cells": [
  {
   "cell_type": "code",
   "execution_count": 4,
   "id": "15976f88-d26a-4564-95d9-bf77fe59ab09",
   "metadata": {},
   "outputs": [
    {
     "data": {
      "text/plain": [
       "'tut'"
      ]
     },
     "execution_count": 4,
     "metadata": {},
     "output_type": "execute_result"
    }
   ],
   "source": [
    "x = 'constitution'            #slicing\n",
    "x [6:9:1]\n"
   ]
  },
  {
   "cell_type": "code",
   "execution_count": 7,
   "id": "5f135398-7439-4cc5-885a-33b7316adff0",
   "metadata": {},
   "outputs": [
    {
     "name": "stdout",
     "output_type": "stream",
     "text": [
      "HelloWorld\n"
     ]
    }
   ],
   "source": [
    "x = 'Hello'\n",
    "y = \"World\"\n",
    "print(x+y)"
   ]
  },
  {
   "cell_type": "code",
   "execution_count": 8,
   "id": "7ab7b414-84d5-4115-8c6a-4e3cdd741622",
   "metadata": {},
   "outputs": [
    {
     "name": "stdout",
     "output_type": "stream",
     "text": [
      "Hello World\n"
     ]
    }
   ],
   "source": [
    "x = 'Hello'\n",
    "y = \"World\"\n",
    "print(x,y)"
   ]
  },
  {
   "cell_type": "code",
   "execution_count": 6,
   "id": "07fe5441-f155-4268-854b-af77406773c9",
   "metadata": {},
   "outputs": [
    {
     "data": {
      "text/plain": [
       "'Pyanshu ZX'"
      ]
     },
     "execution_count": 6,
     "metadata": {},
     "output_type": "execute_result"
    }
   ],
   "source": [
    "x = '   Pyanshu ZX    '      # strip \n",
    "x.strip()"
   ]
  },
  {
   "cell_type": "code",
   "execution_count": 6,
   "id": "26ad399b-aff0-4fa0-a2ed-4ecd9a1320fe",
   "metadata": {},
   "outputs": [
    {
     "name": "stdout",
     "output_type": "stream",
     "text": [
      "Hello\tWorld\n"
     ]
    }
   ],
   "source": [
    "a = \"Hello\\tWorld\"            #give 4 spaces like tab\n",
    "print(a)"
   ]
  },
  {
   "cell_type": "code",
   "execution_count": 8,
   "id": "522402d0-ce8b-417d-ace8-5302487bcb15",
   "metadata": {},
   "outputs": [
    {
     "name": "stdout",
     "output_type": "stream",
     "text": [
      "Hello World\n"
     ]
    }
   ],
   "source": [
    "a = \"Hello \\b World\"           #remove 1 backspace before the \\b function\n",
    "print(a)"
   ]
  },
  {
   "cell_type": "code",
   "execution_count": 9,
   "id": "a028400c-1668-499e-885d-627d567fc4da",
   "metadata": {},
   "outputs": [
    {
     "name": "stdout",
     "output_type": "stream",
     "text": [
      "Hello \n",
      " World\n"
     ]
    }
   ],
   "source": [
    "a = \"Hello \\n World\"           #give new line after \\n function\n",
    "print(a)"
   ]
  },
  {
   "cell_type": "code",
   "execution_count": 10,
   "id": "1c0ea8ef-be56-4844-bc47-8f4fe0b9e286",
   "metadata": {},
   "outputs": [
    {
     "data": {
      "text/plain": [
       "'Fasah'"
      ]
     },
     "execution_count": 10,
     "metadata": {},
     "output_type": "execute_result"
    }
   ],
   "source": [
    "x = \"Fisih\"                      #use of replace in all \"i\" alphabet\n",
    "x.replace(\"i\", \"a\")"
   ]
  },
  {
   "cell_type": "code",
   "execution_count": 11,
   "id": "131ffad7-370a-4ab2-bc0c-3b9583042a98",
   "metadata": {},
   "outputs": [
    {
     "name": "stdout",
     "output_type": "stream",
     "text": [
      "faquasih\n"
     ]
    }
   ],
   "source": [
    "x = \"fisih\"\n",
    "replace = x[0] + \"aqua\" + x[2:]               #use of replace in specific alphabet\n",
    "print(replace)"
   ]
  },
  {
   "cell_type": "code",
   "execution_count": 17,
   "id": "ec05abdc-e53a-4c4e-8cab-b1f702f0d6c4",
   "metadata": {},
   "outputs": [
    {
     "data": {
      "text/plain": [
       "17"
      ]
     },
     "execution_count": 17,
     "metadata": {},
     "output_type": "execute_result"
    }
   ],
   "source": [
    "x = \"manishhhhhhhhhhhhphhhhh\"            #use of index is used to find the first occurrence of a specified value\n",
    "x.index(\"p\")"
   ]
  },
  {
   "cell_type": "code",
   "execution_count": 20,
   "id": "d8453200-890d-4894-8e7f-c3101ae3a894",
   "metadata": {},
   "outputs": [
    {
     "name": "stdout",
     "output_type": "stream",
     "text": [
      "D\n",
      "A\n",
      "T\n",
      "A\n",
      "S\n",
      "P\n",
      "A\n",
      "C\n",
      "E\n",
      "A\n",
      "C\n",
      "A\n",
      "D\n",
      "E\n",
      "M\n",
      "Y\n"
     ]
    }
   ],
   "source": [
    "x = \"DATASPACEACADEMY\"\n",
    "for i in x:\n",
    "    print(i)"
   ]
  },
  {
   "cell_type": "code",
   "execution_count": 29,
   "id": "a7c91307-e059-4b3a-b45c-845f9231248a",
   "metadata": {},
   "outputs": [
    {
     "name": "stdout",
     "output_type": "stream",
     "text": [
      "012345678910"
     ]
    }
   ],
   "source": [
    "for i in range(0,11,1):    #End func print vertically\n",
    "    print(i, end=\"\")"
   ]
  },
  {
   "cell_type": "code",
   "execution_count": 1,
   "id": "3e30f7c4-2157-4638-b71f-2736c3fd0286",
   "metadata": {},
   "outputs": [
    {
     "name": "stdout",
     "output_type": "stream",
     "text": [
      "45\n"
     ]
    }
   ],
   "source": [
    "sum = 0 \n",
    "for i in range(1,10):       # for loop(sum)\n",
    "    sum += i\n",
    "print(sum)"
   ]
  },
  {
   "cell_type": "code",
   "execution_count": 13,
   "id": "8693b295-52bc-4169-8e6b-788366084493",
   "metadata": {},
   "outputs": [
    {
     "name": "stdout",
     "output_type": "stream",
     "text": [
      "35.0\n"
     ]
    }
   ],
   "source": [
    "number = [10,20,30,40,50,60]\n",
    "sum = 0\n",
    "for i in number:                  # for loop (average) \n",
    "    sum += i\n",
    "\n",
    "total_number = len(number)\n",
    "average = sum/total_number\n",
    "print(average)\n"
   ]
  },
  {
   "cell_type": "code",
   "execution_count": 16,
   "id": "2f74a5b9-be04-418c-9050-98c97f59264a",
   "metadata": {},
   "outputs": [
    {
     "name": "stdin",
     "output_type": "stream",
     "text": [
      "Enter element 1:  1\n",
      "Enter element 2:  2\n",
      "Enter element 3:  3\n",
      "Enter element 4:  4\n",
      "Enter element 5:  5\n"
     ]
    },
    {
     "name": "stdout",
     "output_type": "stream",
     "text": [
      "avg 3.0\n"
     ]
    }
   ],
   "source": [
    "sum=0\n",
    "for i in range(5):\n",
    "    sum+= int(input(f\"Enter element {i+1}: \"))\n",
    "print(\"avg\", sum/5)"
   ]
  },
  {
   "cell_type": "code",
   "execution_count": 38,
   "id": "5cf8393c-e946-474a-a152-c427b5160151",
   "metadata": {},
   "outputs": [
    {
     "name": "stdout",
     "output_type": "stream",
     "text": [
      "11\n",
      "14\n",
      "5\n",
      "7\n",
      "12\n",
      "8\n"
     ]
    }
   ],
   "source": [
    "numbers = [1, 4, 5, 7, 2, 8]  \n",
    "number = 0\n",
    "for number in numbers:\n",
    "    if number < 5:               #if number less than 5 then add 10 to it (By using Assignment operator)\n",
    "        number += 10  \n",
    "    print(number)\n"
   ]
  },
  {
   "cell_type": "code",
   "execution_count": 37,
   "id": "f1f052c7-0a2f-4f44-938a-80cf93539237",
   "metadata": {},
   "outputs": [
    {
     "name": "stdout",
     "output_type": "stream",
     "text": [
      "13\n"
     ]
    }
   ],
   "source": [
    "n = 3\n",
    "if n < 5:                          #if number less than 5 then add 10 to it(normally) \n",
    "    print(n + 10)"
   ]
  },
  {
   "cell_type": "code",
   "execution_count": 58,
   "id": "cd70a7e3-08cd-4827-9b8d-0a1b9a7e6fa7",
   "metadata": {},
   "outputs": [
    {
     "name": "stdin",
     "output_type": "stream",
     "text": [
      "Enter Gender Female\n"
     ]
    },
    {
     "name": "stdout",
     "output_type": "stream",
     "text": [
      "Welcome Mam\n"
     ]
    }
   ],
   "source": [
    "gender = input(\"Enter Gender\")\n",
    "if gender == \"Male\":\n",
    "    print(\"Welcome Buddy\")\n",
    "else:                              #use of input function as well as if-else function\n",
    "    print(\"Welcome Mam\")"
   ]
  },
  {
   "cell_type": "code",
   "execution_count": 9,
   "id": "fe5424c3-4d1b-4ff0-83a4-08ffefc5390f",
   "metadata": {},
   "outputs": [
    {
     "name": "stdin",
     "output_type": "stream",
     "text": [
      "Enter the marks:  20\n"
     ]
    },
    {
     "name": "stdout",
     "output_type": "stream",
     "text": [
      "Grade : F\n"
     ]
    }
   ],
   "source": [
    "m = float(input(\"Enter the marks: \"))\n",
    "if m>=90:\n",
    "   print(\"Grade : A\")\n",
    "elif m>=80:\n",
    "   print(\"Grade : B\")\n",
    "elif m>=70:\n",
    "   print(\"Grade : C\")\n",
    "elif m>=60:\n",
    "   print(\"Grade : D\")\n",
    "else: \n",
    "    print(\"Grade : F\")"
   ]
  },
  {
   "cell_type": "code",
   "execution_count": 2,
   "id": "8432fc28-2173-4678-a72b-a6d01b883e04",
   "metadata": {},
   "outputs": [
    {
     "name": "stdout",
     "output_type": "stream",
     "text": [
      "1\n",
      "2\n",
      "3\n",
      "4\n",
      "5\n",
      "6\n",
      "7\n",
      "8\n",
      "9\n",
      "10\n"
     ]
    }
   ],
   "source": [
    "count = 1\n",
    "while count <11:\n",
    "    print(count)\n",
    "    count += 1"
   ]
  },
  {
   "cell_type": "code",
   "execution_count": 10,
   "id": "a3afb014-7a27-4f2f-8f0c-5869b5357c14",
   "metadata": {},
   "outputs": [
    {
     "name": "stdin",
     "output_type": "stream",
     "text": [
      "Enter the number you want table 54\n"
     ]
    },
    {
     "name": "stdout",
     "output_type": "stream",
     "text": [
      "54\n",
      "108\n",
      "162\n",
      "216\n",
      "270\n",
      "324\n",
      "378\n",
      "432\n",
      "486\n",
      "540\n"
     ]
    }
   ],
   "source": [
    "number = int(input(\"Enter the number you want table\"))\n",
    "i = 1\n",
    "while i<11:                                              #find table of specific number \n",
    "    print(number*i)\n",
    "    i += 1"
   ]
  },
  {
   "cell_type": "code",
   "execution_count": 14,
   "id": "edc7edf6-6aac-491e-8fd6-973555ad651d",
   "metadata": {},
   "outputs": [
    {
     "name": "stdin",
     "output_type": "stream",
     "text": [
      "Enter any number 180\n"
     ]
    },
    {
     "name": "stdout",
     "output_type": "stream",
     "text": [
      "Total iteration required 3\n"
     ]
    }
   ],
   "source": [
    "count = 0\n",
    "number = int(input(\"Enter any number\"))\n",
    "while number > 10:\n",
    "    number = number / 3\n",
    "    count += 1\n",
    "print('Total iteration required',count)"
   ]
  },
  {
   "cell_type": "code",
   "execution_count": null,
   "id": "4891d514-cb77-4442-abc1-3ad5a17bc7d8",
   "metadata": {},
   "outputs": [],
   "source": [
    "number = int(input('Enter any number between 100 and 500'))\n",
    "while number < 100 or number > 500:\n",
    "    print(\"Incorrect number, Please enter correct number: \")\n",
    "    number = int(input(\"Enter a number between 100 and 500\"))\n",
    "else:\n",
    "    print(\"Given number is Correct\", number)    "
   ]
  },
  {
   "cell_type": "code",
   "execution_count": null,
   "id": "ce13597b-6c00-4cfc-b182-346db89e1e87",
   "metadata": {},
   "outputs": [],
   "source": []
  }
 ],
 "metadata": {
  "kernelspec": {
   "display_name": "Python 3 (ipykernel)",
   "language": "python",
   "name": "python3"
  },
  "language_info": {
   "codemirror_mode": {
    "name": "ipython",
    "version": 3
   },
   "file_extension": ".py",
   "mimetype": "text/x-python",
   "name": "python",
   "nbconvert_exporter": "python",
   "pygments_lexer": "ipython3",
   "version": "3.12.4"
  }
 },
 "nbformat": 4,
 "nbformat_minor": 5
}
