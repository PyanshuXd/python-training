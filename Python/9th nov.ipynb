{
 "cells": [
  {
   "cell_type": "code",
   "execution_count": 1,
   "id": "3079364b-4c37-485e-a62b-06fa47d3a036",
   "metadata": {},
   "outputs": [
    {
     "name": "stdout",
     "output_type": "stream",
     "text": [
      "40\n",
      "-40\n"
     ]
    }
   ],
   "source": [
    "def add(a,b):\n",
    "    print(a-b)            #Positional Argument\n",
    "add(50,10)\n",
    "add(10,50)"
   ]
  },
  {
   "cell_type": "code",
   "execution_count": 3,
   "id": "d01b52e3-710f-4e45-b967-b23bb2b9b446",
   "metadata": {},
   "outputs": [
    {
     "name": "stdout",
     "output_type": "stream",
     "text": [
      "Hello Pyanshu ZX\n",
      "Hello Pyanshu ZX\n"
     ]
    }
   ],
   "source": [
    "def message(name,surname):\n",
    "    print(\"Hello\",name,surname)               #Keyword Argument\n",
    "message(name=\"Pyanshu\",surname=\"ZX\")\n",
    "message(surname=\"ZX\",name=\"Pyanshu\")"
   ]
  },
  {
   "cell_type": "code",
   "execution_count": 4,
   "id": "49f9a1b1-535a-4f78-9d4a-d17ea2e8bd9c",
   "metadata": {},
   "outputs": [
    {
     "name": "stdout",
     "output_type": "stream",
     "text": [
      "Hello John\n",
      "Hello Guest\n"
     ]
    }
   ],
   "source": [
    "def message(name = \"Guest\"):\n",
    "    print(\"Hello\", name)            #Default Argument\n",
    "message(\"John\")\n",
    "message()"
   ]
  },
  {
   "cell_type": "code",
   "execution_count": 5,
   "id": "792df4df-f7a6-4120-ad66-8faf8f291067",
   "metadata": {},
   "outputs": [
    {
     "name": "stdout",
     "output_type": "stream",
     "text": [
      "Sum is: 0\n",
      "Sum is: 26\n",
      "Sum is: 87.5\n"
     ]
    }
   ],
   "source": [
    "def addition(*numbers):\n",
    "    total = 0\n",
    "    for no in numbers:\n",
    "        total = total + no         #Variable-Length Function\n",
    "    print(\"Sum is:\",total)\n",
    "addition()\n",
    "addition(10,5,2,5,4)\n",
    "addition(78,7,2.5)"
   ]
  },
  {
   "cell_type": "code",
   "execution_count": 23,
   "id": "c0c7d1db-c85f-4076-b9bf-6a2e6ae63d33",
   "metadata": {},
   "outputs": [
    {
     "name": "stdin",
     "output_type": "stream",
     "text": [
      "Enter a number 4\n"
     ]
    },
    {
     "name": "stdout",
     "output_type": "stream",
     "text": [
      "Factorial of the number is: 24\n"
     ]
    }
   ],
   "source": [
    "def factorial(no):\n",
    "    if no == 0:\n",
    "        return 1\n",
    "    else:                                         #Recursive Function\n",
    "        return no * factorial(no - 1)\n",
    "y = int(input(\"Enter a number\"))\n",
    "print(\"Factorial of the number is:\",factorial(y))"
   ]
  },
  {
   "cell_type": "code",
   "execution_count": 24,
   "id": "31785bf3-c6ef-4c29-88ff-7ee36ac64cba",
   "metadata": {},
   "outputs": [
    {
     "data": {
      "text/plain": [
       "True"
      ]
     },
     "execution_count": 24,
     "metadata": {},
     "output_type": "execute_result"
    }
   ],
   "source": [
    "def even(num):\n",
    "    if num % 2 ==0:                          #Lambda\n",
    "        return True\n",
    "even(18)"
   ]
  },
  {
   "cell_type": "code",
   "execution_count": 25,
   "id": "3634cce7-f8df-44be-8288-5d55ce8e2e2f",
   "metadata": {},
   "outputs": [
    {
     "data": {
      "text/plain": [
       "True"
      ]
     },
     "execution_count": 25,
     "metadata": {},
     "output_type": "execute_result"
    }
   ],
   "source": [
    "even1 = lambda a:a % 2 == 0\n",
    "even1(22)"
   ]
  },
  {
   "cell_type": "code",
   "execution_count": 27,
   "id": "58c9b9c7-ba9f-47b5-ab85-169d9b88d490",
   "metadata": {},
   "outputs": [
    {
     "name": "stdout",
     "output_type": "stream",
     "text": [
      "15\n"
     ]
    }
   ],
   "source": [
    "x = lambda a : a + 10\n",
    "print(x(5))"
   ]
  },
  {
   "cell_type": "code",
   "execution_count": 28,
   "id": "8803e657-5c3f-4df5-8eee-438e66676d76",
   "metadata": {},
   "outputs": [
    {
     "data": {
      "text/plain": [
       "[1, 3, 5, 7]"
      ]
     },
     "execution_count": 28,
     "metadata": {},
     "output_type": "execute_result"
    }
   ],
   "source": [
    "l = [1,2,3,4,5,6,7]\n",
    "odd = [no for no in l if no % 2 != 0]          #List Comrehension\n",
    "odd"
   ]
  },
  {
   "cell_type": "code",
   "execution_count": 29,
   "id": "f8a22806-d467-4e5c-94c2-bbf758186522",
   "metadata": {},
   "outputs": [
    {
     "data": {
      "text/plain": [
       "{-21, -9, -2, -1}"
      ]
     },
     "execution_count": 29,
     "metadata": {},
     "output_type": "execute_result"
    }
   ],
   "source": [
    "s = {4,3,-1,-2,-9,57,9,49,13,-21}\n",
    "s1 = {no for no in s if no < 0}               #Set Comprehension\n",
    "s1"
   ]
  },
  {
   "cell_type": "code",
   "execution_count": 1,
   "id": "a0a26113-1264-4967-9a0f-4552c0358096",
   "metadata": {},
   "outputs": [
    {
     "name": "stdout",
     "output_type": "stream",
     "text": [
      "Name is: Pyanshu and percentage is: 80\n"
     ]
    }
   ],
   "source": [
    "class Student:\n",
    "    def __init__(self,name,percentage):\n",
    "        self.name = name\n",
    "        self.percentage = percentage\n",
    "\n",
    "    def show(self):\n",
    "      print(\"Name is:\",self.name,\"and percentage is:\",self.percentage)\n",
    "stud = Student(\"Pyanshu\",80)\n",
    "stud.show()"
   ]
  },
  {
   "cell_type": "code",
   "execution_count": 2,
   "id": "b915da31-a292-4c3e-9429-498f12760c0e",
   "metadata": {},
   "outputs": [
    {
     "name": "stdout",
     "output_type": "stream",
     "text": [
      "This is non-parametrized constructor\n",
      "Hello Pyanshu\n"
     ]
    }
   ],
   "source": [
    "class Test:\n",
    "  def __init__(self):\n",
    "    print(\"This is non-parametrized constructor\")\n",
    "  def show(self,name):\n",
    "    print(\"Hello\",name)\n",
    "t = Test()\n",
    "t.show(\"Pyanshu\")"
   ]
  },
  {
   "cell_type": "code",
   "execution_count": 3,
   "id": "a9c246e0-58d8-4203-b7a4-99c81e9d0017",
   "metadata": {},
   "outputs": [
    {
     "name": "stdout",
     "output_type": "stream",
     "text": [
      "This is parametrized constructor\n",
      "Fruit is Apple and color is Red\n"
     ]
    }
   ],
   "source": [
    "class Fruit:\n",
    "  def __init__(self,name,color):\n",
    "    print(\"This is parametrized constructor\")\n",
    "    self.name = name\n",
    "    self.color = color\n",
    "  def show(self):\n",
    "    print(\"Fruit is\",self.name,\"and color is\",self.color)\n",
    "\n",
    "obj = Fruit(\"Apple\",\"Red\")\n",
    "obj.show()"
   ]
  },
  {
   "cell_type": "code",
   "execution_count": null,
   "id": "a2aeeb47-a686-442b-8e2e-e1135330bcdc",
   "metadata": {},
   "outputs": [],
   "source": []
  }
 ],
 "metadata": {
  "kernelspec": {
   "display_name": "Python 3 (ipykernel)",
   "language": "python",
   "name": "python3"
  },
  "language_info": {
   "codemirror_mode": {
    "name": "ipython",
    "version": 3
   },
   "file_extension": ".py",
   "mimetype": "text/x-python",
   "name": "python",
   "nbconvert_exporter": "python",
   "pygments_lexer": "ipython3",
   "version": "3.12.4"
  }
 },
 "nbformat": 4,
 "nbformat_minor": 5
}
