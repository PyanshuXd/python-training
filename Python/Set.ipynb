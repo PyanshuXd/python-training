{
 "cells": [
  {
   "cell_type": "code",
   "execution_count": 4,
   "id": "d38aaf77-6e28-40ce-8cea-d264a0e6f065",
   "metadata": {},
   "outputs": [
    {
     "name": "stdout",
     "output_type": "stream",
     "text": [
      "{25, 75.25, 'Jessa', 'Mark'}\n"
     ]
    }
   ],
   "source": [
    "sample_set ={'Mark', 'Jessa', 25, 75.25}\n",
    "\n",
    "print(sample_set)"
   ]
  },
  {
   "cell_type": "code",
   "execution_count": 5,
   "id": "376a13fb-e860-467f-beee-389e1f3f513c",
   "metadata": {},
   "outputs": [
    {
     "name": "stdout",
     "output_type": "stream",
     "text": [
      "{'Atlas Shrugged', 'Angels and Demons', 'Harry Potter'}\n"
     ]
    }
   ],
   "source": [
    "book_set = set((\"Harry Potter\", \"Angels and Demons\", \"Atlas Shrugged\"))\n",
    "print(book_set)"
   ]
  },
  {
   "cell_type": "code",
   "execution_count": 6,
   "id": "2eb155b6-7f54-4324-9371-cbe71413ad75",
   "metadata": {},
   "outputs": [
    {
     "data": {
      "text/plain": [
       "{2, 20, 30, 31.0, 50}"
      ]
     },
     "execution_count": 6,
     "metadata": {},
     "output_type": "execute_result"
    }
   ],
   "source": [
    "number_list = [2, 30, 20, 30, 50, 30,31.0]\n",
    "sample_set = set(number_list)\n",
    "sample_set\n"
   ]
  },
  {
   "cell_type": "code",
   "execution_count": 9,
   "id": "2095b4ce-b560-49a3-9733-830c4ce066c4",
   "metadata": {},
   "outputs": [
    {
     "name": "stdout",
     "output_type": "stream",
     "text": [
      "<class 'set'>\n",
      "set()\n"
     ]
    }
   ],
   "source": [
    "empty_set= set()\n",
    "\n",
    "print(type(empty_set))\n",
    "\n",
    "print(empty_set)\n"
   ]
  },
  {
   "cell_type": "code",
   "execution_count": 10,
   "id": "32962fce-0276-49ad-89f2-cc40168809ca",
   "metadata": {},
   "outputs": [
    {
     "name": "stdout",
     "output_type": "stream",
     "text": [
      "()\n",
      "<class 'tuple'>\n"
     ]
    }
   ],
   "source": [
    "emptySet = ()\n",
    "\n",
    "print(emptySet)\n",
    "\n",
    "print(type(emptySet))"
   ]
  },
  {
   "cell_type": "code",
   "execution_count": 12,
   "id": "67b3a2df-4d87-4209-82d7-0b44891f3ccf",
   "metadata": {},
   "outputs": [
    {
     "name": "stdout",
     "output_type": "stream",
     "text": [
      "Atlas Shrugged\n",
      "Angels and Demons\n",
      "Harry Potter\n"
     ]
    }
   ],
   "source": [
    "book_set = {\"Harry Potter\", \"Angels and Demons\", \"Atlas Shrugged\"} \n",
    "for i in book_set:\n",
    "    print(i)\n"
   ]
  },
  {
   "cell_type": "code",
   "execution_count": 14,
   "id": "e7fc47e3-37a3-4273-9ce3-2807997434ed",
   "metadata": {},
   "outputs": [
    {
     "name": "stdout",
     "output_type": "stream",
     "text": [
      "{'black', 'white', 'orange', 'red'}\n"
     ]
    }
   ],
   "source": [
    "color_set = {'red', 'orange', 'yellow', 'white', 'black'}\n",
    "\n",
    "color_set.remove('yellow')\n",
    "\n",
    "print(color_set)\n"
   ]
  },
  {
   "cell_type": "code",
   "execution_count": 15,
   "id": "77207daf-0553-47d7-99e2-fb86ce19fc16",
   "metadata": {},
   "outputs": [
    {
     "name": "stdout",
     "output_type": "stream",
     "text": [
      "{'black', 'orange', 'red'}\n"
     ]
    }
   ],
   "source": [
    "color_set.discard('white')\n",
    "\n",
    "print(color_set)\n"
   ]
  },
  {
   "cell_type": "code",
   "execution_count": 18,
   "id": "7f7b4bd9-1777-4f00-94b5-7c8bdfc939ca",
   "metadata": {},
   "outputs": [
    {
     "name": "stdout",
     "output_type": "stream",
     "text": [
      "black\n"
     ]
    }
   ],
   "source": [
    "deleted_item = color_set.pop()\n",
    "\n",
    "print(deleted_item)"
   ]
  },
  {
   "cell_type": "code",
   "execution_count": 19,
   "id": "8f7417d4-b8e6-4251-8288-0b879eee0b33",
   "metadata": {},
   "outputs": [
    {
     "name": "stdout",
     "output_type": "stream",
     "text": [
      "{'black', 'white', 'orange', 'red'}\n"
     ]
    }
   ],
   "source": [
    "color_set = {'red', 'orange', 'yellow', 'white', 'black'}\n",
    "\n",
    "color_set.remove('yellow')\n",
    "\n",
    "print(color_set)\n"
   ]
  },
  {
   "cell_type": "code",
   "execution_count": 21,
   "id": "6791fb24-c533-4e87-9725-5ff44daf1a05",
   "metadata": {},
   "outputs": [
    {
     "name": "stdout",
     "output_type": "stream",
     "text": [
      "{'black', 'orange', 'red'}\n"
     ]
    }
   ],
   "source": [
    "color_set.discard('white')\n",
    "\n",
    "print (color_set)\n"
   ]
  },
  {
   "cell_type": "code",
   "execution_count": 24,
   "id": "28a9f223-2d93-4b7c-8f1c-32f0cae2ef77",
   "metadata": {},
   "outputs": [
    {
     "data": {
      "text/plain": [
       "{'Angels and Demons', 'Harry Potter', 'The God of Small Things'}"
      ]
     },
     "execution_count": 24,
     "metadata": {},
     "output_type": "execute_result"
    }
   ],
   "source": [
    "book_set = {'Harry Potter', 'Angels and Demons'}\n",
    "\n",
    "book_set.add(\"The God of Small Things\") \n",
    "book_set"
   ]
  },
  {
   "cell_type": "code",
   "execution_count": 26,
   "id": "93926a31-e1e9-40ed-b0ac-f8f9bdd8ff54",
   "metadata": {},
   "outputs": [
    {
     "data": {
      "text/plain": [
       "{'Angels and Demons',\n",
       " 'Atlas Shrugged',\n",
       " 'Harry Potter',\n",
       " 'The God of Small Things',\n",
       " 'Ulysses'}"
      ]
     },
     "execution_count": 26,
     "metadata": {},
     "output_type": "execute_result"
    }
   ],
   "source": [
    "book_set.update(['Atlas Shrugged', 'Ulysses']) \n",
    "book_set"
   ]
  },
  {
   "cell_type": "code",
   "execution_count": 27,
   "id": "a1ef7247-97a7-4545-8aeb-b3e196c3b8b2",
   "metadata": {},
   "outputs": [
    {
     "name": "stdout",
     "output_type": "stream",
     "text": [
      "{'black', 'white', 'orange', 'red'}\n"
     ]
    }
   ],
   "source": [
    "color_set = {'red', 'orange', 'yellow', 'white', 'black'}\n",
    "\n",
    "color_set.remove('yellow')\n",
    "\n",
    "print(color_set)\n"
   ]
  },
  {
   "cell_type": "code",
   "execution_count": 28,
   "id": "d69fa6d5-eb58-4d9d-af95-a400d4bc2d1b",
   "metadata": {},
   "outputs": [
    {
     "name": "stdout",
     "output_type": "stream",
     "text": [
      "{'black', 'orange', 'red'}\n"
     ]
    }
   ],
   "source": [
    "color_set.discard('white')\n",
    "\n",
    "print(color_set)\n"
   ]
  },
  {
   "cell_type": "code",
   "execution_count": 32,
   "id": "6a189e36-c4f7-490c-8f29-a4dc36a10f1f",
   "metadata": {},
   "outputs": [
    {
     "name": "stdout",
     "output_type": "stream",
     "text": [
      "red\n"
     ]
    }
   ],
   "source": [
    "deleted_item= color_set.pop()\n",
    "\n",
    "print(deleted_item)"
   ]
  },
  {
   "cell_type": "code",
   "execution_count": 34,
   "id": "8695ab64-c432-43ef-a74c-f9ad77c2e764",
   "metadata": {},
   "outputs": [
    {
     "name": "stdout",
     "output_type": "stream",
     "text": [
      "{'black', 'white', 'orange', 'Angels and Demons', 'red', 'yellow', 'Harry Potter'} "
     ]
    }
   ],
   "source": [
    "s1 = {'red', 'orange', 'yellow', 'white', 'black'}\n",
    "s2 = {'Harry Potter', 'Angels and Demons'}\n",
    "s3 = s1.union(s2)\n",
    "print(s3,end =\" \")"
   ]
  },
  {
   "cell_type": "code",
   "execution_count": 37,
   "id": "c3d0f501-281c-488d-8f1f-b0931cff9d03",
   "metadata": {},
   "outputs": [
    {
     "data": {
      "text/plain": [
       "{'Angels and Demons',\n",
       " 'Harry Potter',\n",
       " 'black',\n",
       " 'orange',\n",
       " 'red',\n",
       " 'white',\n",
       " 'yellow'}"
      ]
     },
     "execution_count": 37,
     "metadata": {},
     "output_type": "execute_result"
    }
   ],
   "source": [
    "s2.intersection_update(s1)\n",
    "s3\n"
   ]
  },
  {
   "cell_type": "code",
   "execution_count": 40,
   "id": "d13b0ccf-0505-4345-989c-a8d3e9558e43",
   "metadata": {},
   "outputs": [
    {
     "data": {
      "text/plain": [
       "{'blue', 'green', 'indigo', 'orange', 'red', 'violet', 'yellow'}"
      ]
     },
     "execution_count": 40,
     "metadata": {},
     "output_type": "execute_result"
    }
   ],
   "source": [
    "color_set = {'violet', 'indigo', 'blue', 'green', 'yellow'} \n",
    "remaining_colors = {'indigo', 'orange', 'red'}\n",
    "\n",
    "vibgyor_colors = color_set | remaining_colors\n",
    "\n",
    "vibgyor_colors\n",
    "\n"
   ]
  },
  {
   "cell_type": "code",
   "execution_count": 44,
   "id": "67ed4f77-670e-48a6-b62c-1138cf1e9814",
   "metadata": {},
   "outputs": [
    {
     "data": {
      "text/plain": [
       "{'indigo'}"
      ]
     },
     "execution_count": 44,
     "metadata": {},
     "output_type": "execute_result"
    }
   ],
   "source": [
    "color_set = {'violet', 'indigo', 'blue', 'green', 'yellow'} \n",
    "remaining_colors = {'indigo', 'orange', 'red'}\n",
    "\n",
    "new_set = color_set & remaining_colors\n",
    "\n",
    "new_set"
   ]
  },
  {
   "cell_type": "code",
   "execution_count": 52,
   "id": "02c99753-6483-47d6-a9d2-3e2f7e3854e9",
   "metadata": {},
   "outputs": [
    {
     "name": "stdout",
     "output_type": "stream",
     "text": [
      "{'indigo'}\n",
      "{'violet', 'green', 'blue', 'indigo', 'yellow'}\n"
     ]
    }
   ],
   "source": [
    "color_set = {'violet', 'indigo', 'blue', 'green', 'yellow'}\n",
    "remaining_colors = {'indigo', 'orange', 'red'}\n",
    "common_colors = color_set.intersection(remaining_colors) \n",
    "print(common_colors)\n",
    "print(color_set)"
   ]
  },
  {
   "cell_type": "code",
   "execution_count": 51,
   "id": "65b1532b-d8cd-415b-bb3b-02190aff3026",
   "metadata": {},
   "outputs": [
    {
     "data": {
      "text/plain": [
       "{'indigo'}"
      ]
     },
     "execution_count": 51,
     "metadata": {},
     "output_type": "execute_result"
    }
   ],
   "source": [
    "color_set.intersection_update (remaining_colors)\n",
    "color_set"
   ]
  },
  {
   "cell_type": "code",
   "execution_count": 49,
   "id": "dd718b98-c7fa-48da-8d3e-cea0e2b78a37",
   "metadata": {},
   "outputs": [
    {
     "name": "stdout",
     "output_type": "stream",
     "text": [
      "{'indigo'}\n"
     ]
    }
   ],
   "source": [
    "print(color_set)"
   ]
  },
  {
   "cell_type": "code",
   "execution_count": 54,
   "id": "4c3405bb-8aeb-492e-bacc-7283905a0b73",
   "metadata": {},
   "outputs": [
    {
     "data": {
      "text/plain": [
       "{'blue', 'green', 'orange', 'red', 'violet', 'yellow'}"
      ]
     },
     "execution_count": 54,
     "metadata": {},
     "output_type": "execute_result"
    }
   ],
   "source": [
    "color_set = {'violet', 'indigo', 'blue', 'green', 'yellow'} \n",
    "remaining_colors = {'indigo', 'orange', 'red'}\n",
    "\n",
    "unique_items = color_set ^ remaining_colors \n",
    "unique_items"
   ]
  },
  {
   "cell_type": "code",
   "execution_count": null,
   "id": "a951d315-f5e7-4afe-b85b-1c1557f5d730",
   "metadata": {},
   "outputs": [],
   "source": []
  }
 ],
 "metadata": {
  "kernelspec": {
   "display_name": "Python 3 (ipykernel)",
   "language": "python",
   "name": "python3"
  },
  "language_info": {
   "codemirror_mode": {
    "name": "ipython",
    "version": 3
   },
   "file_extension": ".py",
   "mimetype": "text/x-python",
   "name": "python",
   "nbconvert_exporter": "python",
   "pygments_lexer": "ipython3",
   "version": "3.12.4"
  }
 },
 "nbformat": 4,
 "nbformat_minor": 5
}
